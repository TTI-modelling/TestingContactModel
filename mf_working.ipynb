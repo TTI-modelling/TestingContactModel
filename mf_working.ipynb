{
 "metadata": {
  "language_info": {
   "codemirror_mode": {
    "name": "ipython",
    "version": 3
   },
   "file_extension": ".py",
   "mimetype": "text/x-python",
   "name": "python",
   "nbconvert_exporter": "python",
   "pygments_lexer": "ipython3",
   "version": "3.9.2-final"
  },
  "orig_nbformat": 2,
  "kernelspec": {
   "name": "python3",
   "display_name": "Python 3.9.2 64-bit ('household-contact-tracing': conda)",
   "metadata": {
    "interpreter": {
     "hash": "cd3f1befe734ef76657bf4cb28410d324f710ae4ddab2887191ba75a6c886d82"
    }
   }
  }
 },
 "nbformat": 4,
 "nbformat_minor": 2,
 "cells": [
  {
   "cell_type": "code",
   "execution_count": 1,
   "metadata": {},
   "outputs": [],
   "source": [
    "from household_contact_tracing.BranchingProcessSimulation import TestingContactModel"
   ]
  },
  {
   "cell_type": "code",
   "execution_count": 11,
   "metadata": {},
   "outputs": [
    {
     "output_type": "execute_result",
     "data": {
      "text/plain": [
       "{'house_dict': {1: <household_contact_tracing.network.Household at 0x222f93d0b20>},\n",
       " 'nodes': <household_contact_tracing.network.NodeCollection at 0x222f92b8070>}"
      ]
     },
     "metadata": {},
     "execution_count": 11
    }
   ],
   "source": [
    "def prob_testing_positive_lfa_func(infectious_age):\n",
    "    if infectious_age in [4, 5, 6]:\n",
    "        return 1\n",
    "    else:\n",
    "        return 0\n",
    "\n",
    "def prob_testing_positive_pcr_func(infectious_age):\n",
    "    if infectious_age in [4, 5, 6]:\n",
    "        return 0\n",
    "    else:\n",
    "        return 0\n",
    "\n",
    "def test_delay_dist():\n",
    "    return 1\n",
    "\n",
    "def contact_trace_delay_dist():\n",
    "    return 1\n",
    "\n",
    "def incubation_period_delay_dist():\n",
    "    return 5\n",
    "\n",
    "def symptom_reporting_delay_dist():\n",
    "    return 1\n",
    "\n",
    "model = TestingContactModel(\n",
    "    outside_household_infectivity_scaling=0.3,\n",
    "    contact_tracing_success_prob=0.7,\n",
    "    overdispersion=0.32,\n",
    "    asymptomatic_prob=0.2,\n",
    "    asymptomatic_relative_infectivity=0.35,\n",
    "    infection_reporting_prob=0.3,\n",
    "    contact_trace=True,\n",
    "    prob_testing_positive_lfa_func = prob_testing_positive_lfa_func,\n",
    "    prob_testing_positive_pcr_func = prob_testing_positive_pcr_func,\n",
    "    LFA_testing_requires_confirmatory_PCR=False,\n",
    "    test_delay_dist=test_delay_dist,\n",
    "    contact_trace_delay_dist=contact_trace_delay_dist,\n",
    "    incubation_period_delay_dist=incubation_period_delay_dist,\n",
    "    symptom_reporting_delay_dist=symptom_reporting_delay_dist,\n",
    "    household_pairwise_survival_prob=0.2,\n",
    "    policy_for_household_contacts_of_a_positive_case='lfa testing no quarantine'\n",
    ")\n",
    "\n",
    "\n",
    "model.contact_tracing_success_prob = 1\n",
    "\n",
    "model.new_outside_household_infection(\n",
    "    infecting_node = model.nodes.node(1),\n",
    "    serial_interval=0\n",
    ")\n",
    "\n",
    "# model.attempt_contact_trace_of_household(\n",
    "#     house_to = model.houses.household(2),\n",
    "#     house_from = model.houses.household(1),\n",
    "#     days_since_contact_occurred=0,\n",
    "#     contact_trace_delay=0\n",
    "# )\n",
    "\n",
    "#model.simulate_one_day()\n",
    "\n",
    "#model.simulate_one_day()\n",
    "model.houses.__dict__\n"
   ]
  },
  {
   "cell_type": "code",
   "execution_count": 3,
   "metadata": {},
   "outputs": [],
   "source": []
  },
  {
   "cell_type": "code",
   "execution_count": 4,
   "metadata": {},
   "outputs": [
    {
     "output_type": "execute_result",
     "data": {
      "text/plain": [
       "{'house_dict': {1: <household_contact_tracing.network.Household at 0x222f7b38dc0>,\n",
       "  2: <household_contact_tracing.network.Household at 0x222f7b386d0>},\n",
       " 'nodes': <household_contact_tracing.network.NodeCollection at 0x222f7b28e80>}"
      ]
     },
     "metadata": {},
     "execution_count": 4
    }
   ],
   "source": [
    "model.houses.__dict__"
   ]
  },
  {
   "cell_type": "code",
   "execution_count": 5,
   "metadata": {},
   "outputs": [
    {
     "output_type": "execute_result",
     "data": {
      "text/plain": [
       "<household_contact_tracing.network.Household at 0x222f7b386d0>"
      ]
     },
     "metadata": {},
     "execution_count": 5
    }
   ],
   "source": [
    "model.houses.household(2)"
   ]
  },
  {
   "cell_type": "code",
   "execution_count": null,
   "metadata": {},
   "outputs": [],
   "source": []
  }
 ]
}