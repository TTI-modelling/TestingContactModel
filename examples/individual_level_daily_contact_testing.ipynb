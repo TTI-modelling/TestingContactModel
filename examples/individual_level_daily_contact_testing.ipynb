{
 "cells": [
  {
   "cell_type": "code",
   "execution_count": null,
   "metadata": {},
   "outputs": [],
   "source": [
    "import household_contact_tracing.branching_process_models as bpm\n",
    "from household_contact_tracing.branching_process_controller import BranchingProcessController\n",
    "from copy import copy"
   ]
  },
  {
   "cell_type": "markdown",
   "metadata": {},
   "source": [
    "# Notebook purpose\n",
    "To provide minimal working examples of various model functionalities for the IndividualLevelDailyContactTesting.\n",
    "\n",
    "# Individual-level contact tracing, with daily contact testing\n",
    "We now extend the individual level contact tracing process with daily contact testing. The idea is that instead of traced contacts quarantining, they will instead test themselves daily using lateral flow tests. This can allow for higher levels of adherence, since the contact tracing process is less burdensome. In addition, this will allow for the detection of asymptomatic chains of transmission and potentially detecting cases earlier in their infection. Household contacts are a special case, and we consider several different household contact policies. We also include models of how test sensitivity varies over time, for both lateral flow and pcr tests."
   ]
  },
  {
   "cell_type": "markdown",
   "metadata": {},
   "source": [
    "## Baseline parameters"
   ]
  },
  {
   "cell_type": "code",
   "execution_count": null,
   "metadata": {},
   "outputs": [],
   "source": [
    "# define some easy to look at test sensitivity functions\n",
    "def prob_testing_positive_function_pcr(time_relative_to_symptom_onset):\n",
    "    # Prevents people testing positive as soon as they get it\n",
    "    if time_relative_to_symptom_onset in [4, 5, 6]:\n",
    "        return 0.75\n",
    "    else:\n",
    "        return 0\n",
    "\n",
    "def prob_testing_positive_function_lfa(time_relative_to_symptom_onset):\n",
    "    # Prevents people testing positive as soon as they get it\n",
    "    if time_relative_to_symptom_onset in [4, 5, 6]:\n",
    "        return 0 # this is unrealistic, but it makes it easier to see nodes being lfa tested since they wont move to the isolation status due to lfa testing\n",
    "    else:\n",
    "        return 0"
   ]
  },
  {
   "cell_type": "code",
   "execution_count": null,
   "metadata": {},
   "outputs": [],
   "source": [
    "params = {\"outside_household_infectivity_scaling\": 0.3,\n",
    "                  \"contact_tracing_success_prob\": 0.7,\n",
    "                  \"overdispersion\": 0.32,\n",
    "                  \"asymptomatic_prob\": 0.2,\n",
    "                  \"asymptomatic_relative_infectivity\": 0.35,\n",
    "                  \"infection_reporting_prob\": 0.5,\n",
    "                  \"LFA_testing_requires_confirmatory_PCR\": False,\n",
    "                  \"reduce_contacts_by\": 0.5,\n",
    "                  \"test_delay\": 1,\n",
    "                  \"contact_trace_delay\": 1,\n",
    "                  \"incubation_period_delay\": 5,\n",
    "                  \"symptom_reporting_delay\": 1,\n",
    "                  \"starting_infections\": 5,\n",
    "                  \"household_pairwise_survival_prob\": 0.2,\n",
    "                  \"self_isolation_duration\": 10,\n",
    "                  \"lateral_flow_testing_duration\": 14,\n",
    "                  \"propensity_risky_behaviour_lfa_testing\": 0,\n",
    "                  \"global_contact_reduction_risky_behaviour\": 0,\n",
    "                  \"household_positive_policy\": \"lfa_testing_no_quarantine\"\n",
    "                  }"
   ]
  },
  {
   "cell_type": "markdown",
   "metadata": {},
   "source": [
    "# Household contact policy 1:\n",
    "Household contact quarantine as per the current policy, and are not lateral flow tested. Only those traced via a between household contact tracing attempt should be lateral flow tested, if they are not isolating."
   ]
  },
  {
   "cell_type": "code",
   "execution_count": null,
   "metadata": {},
   "outputs": [],
   "source": [
    "model = bpm.IndividualTracingDailyTesting(params)\n",
    "model.prob_lfa_positive = prob_testing_positive_function_lfa\n",
    "model.prob_pcr_positive = prob_testing_positive_function_pcr\n",
    "controller = BranchingProcessController(model)"
   ]
  },
  {
   "cell_type": "code",
   "execution_count": null,
   "metadata": {
    "scrolled": false
   },
   "outputs": [],
   "source": [
    "controller.graph_view.set_display(True)\n",
    "controller.run_simulation(16)"
   ]
  },
  {
   "cell_type": "markdown",
   "metadata": {},
   "source": [
    "Note: The blue nodes were surprising to me here, I think these are where an individual was traced, so they started taking lateral flow tests, and then they started isolating because a household member had symptom onset, or because they tested positive and haven't stopped LFA testing for some reason. It's not necessarily wrong, but something I need to double check."
   ]
  },
  {
   "cell_type": "markdown",
   "metadata": {},
   "source": [
    "Checklist:\n",
    "* In addition to the usual contact tracing status', you should now see some of the LFA testing node status' appearing\n",
    "* 'Being LFT and isolating' (blue) might start appearing, I think this is correct/fine for now, I may want to correct in the future\n",
    "* 'Being LFT and not isolating' (orange) is our daily contact testing status, you should see some of these. Individuals reached by an out-of-household contact tracing attempt should have this status, as they are being daily contact tested and do not need to isolate"
   ]
  },
  {
   "cell_type": "markdown",
   "metadata": {},
   "source": [
    "# Household contact policy 2:\n",
    "Previously, household contacts were only isolating. Now, household contacts will isolate AND take lateral flow tests. This would allow us to trace housheold member contacts if they made infectious contacts shortly before the household was quarantined."
   ]
  },
  {
   "cell_type": "code",
   "execution_count": null,
   "metadata": {},
   "outputs": [],
   "source": [
    "params_policy_2 = copy(params)\n",
    "params_policy_2['household_positive_policy'] = \"lfa_testing_and_quarantine\""
   ]
  },
  {
   "cell_type": "code",
   "execution_count": null,
   "metadata": {},
   "outputs": [],
   "source": [
    "model = bpm.IndividualTracingDailyTesting(params_policy_2)\n",
    "model.intervention.prob_testing_positive_lfa_func = prob_testing_positive_function_lfa\n",
    "model.intervention.prob_testing_positive_pcr_func = prob_testing_positive_function_pcr\n",
    "controller.model = model"
   ]
  },
  {
   "cell_type": "code",
   "execution_count": null,
   "metadata": {
    "scrolled": false
   },
   "outputs": [],
   "source": [
    "controller.run_simulation(16)"
   ]
  },
  {
   "cell_type": "markdown",
   "metadata": {},
   "source": [
    "Checklist:\n",
    "* You should still see some \"Being LFT and not isolating\" (orange) nodes, who were out-of-household contacts that were traced and are being daily contact tested.\n",
    "* Nearly entire households should have the \"Being LFT and isolating status\" (dark blue). This is due to the new policy here household contacts are being lfa tested.\n",
    "* Some nodes may have the yellow status, this means their lateral flow testing duration is over, but they still need to self-isolate (this doesn't make sense in practice, but is due to some model parameters)"
   ]
  },
  {
   "cell_type": "markdown",
   "metadata": {},
   "source": [
    "# Household contact policy 3:\n",
    "Household contacts do not need to quarantine, but are lateral flow tested."
   ]
  },
  {
   "cell_type": "code",
   "execution_count": null,
   "metadata": {},
   "outputs": [],
   "source": [
    "params_policy_3 = copy(params)\n",
    "params_policy_3['household_positive_policy'] = \"lfa_testing_no_quarantine\""
   ]
  },
  {
   "cell_type": "code",
   "execution_count": null,
   "metadata": {},
   "outputs": [],
   "source": [
    "model = bpm.IndividualTracingDailyTesting(params_policy_3)\n",
    "model.prob_testing_positive_lfa_func = prob_testing_positive_function_lfa\n",
    "model.prob_testing_positive_pcr_func = prob_testing_positive_function_pcr\n",
    "controller.model = model"
   ]
  },
  {
   "cell_type": "code",
   "execution_count": null,
   "metadata": {
    "scrolled": false
   },
   "outputs": [],
   "source": [
    "controller.graph_pyvis_view.set_display(True)\n",
    "controller.graph_pyvis_view.open_in_browser = True\n",
    "controller.run_simulation(16)"
   ]
  },
  {
   "cell_type": "markdown",
   "metadata": {},
   "source": [
    "Checklist:\n",
    "* You should see a lof of \"Being LFT and not isolating\" (orange) nodes, as this will include within-household contacts and out-of-household contacts\n",
    "* There are rare exceptions where you might see a \"Being LFT and isolating\" (blue) status, but I don't think is an issue\n",
    "* Some nodes may have the yellow status, this means their lateral flow testing duration is over, but they still need to self-isolate (this doesn't make sense in practice, but is due to some model parameters)"
   ]
  },
  {
   "cell_type": "markdown",
   "metadata": {},
   "source": [
    "The rest of the parameters will be very hard to see on the network plots, as they mostly just affect background probabilities. They will probably be better tested via unit tests, or by some other test method"
   ]
  },
  {
   "cell_type": "code",
   "execution_count": null,
   "metadata": {},
   "outputs": [],
   "source": [
    "controller.graph_view.set_display(False)\n",
    "controller.timeline_view.set_display(True)\n",
    "controller.run_simulation(20)"
   ]
  }
 ],
 "metadata": {
  "kernelspec": {
   "display_name": "PyCharm (TestingContactModel)",
   "language": "python",
   "name": "pycharm-6e91b71a"
  },
  "language_info": {
   "codemirror_mode": {
    "name": "ipython",
    "version": 3
   },
   "file_extension": ".py",
   "mimetype": "text/x-python",
   "name": "python",
   "nbconvert_exporter": "python",
   "pygments_lexer": "ipython3",
   "version": "3.9.2"
  },
  "metadata": {
   "interpreter": {
    "hash": "5e088ab515b9ff01afc6092114ac7786286eca1d23e3587660ba5a8d6e06cf28"
   }
  }
 },
 "nbformat": 4,
 "nbformat_minor": 2
}
