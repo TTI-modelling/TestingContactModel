{
 "cells": [
  {
   "cell_type": "code",
   "execution_count": 2,
   "source": [
    "import household_contact_tracing.branching_process_models as bpm\r\n",
    "from household_contact_tracing.branching_process_controller import BranchingProcessController\r\n",
    "from household_contact_tracing.calibration import StandardCalibrationHouseholdLevelTracing\r\n",
    "import seaborn as sns\r\n",
    "import matplotlib.pyplot as plt"
   ],
   "outputs": [],
   "metadata": {}
  },
  {
   "cell_type": "markdown",
   "source": [
    "# Calibration tutorial"
   ],
   "metadata": {}
  },
  {
   "cell_type": "markdown",
   "source": [
    "This is a quick tutorial on how to calibrate the epidemic models. Household structured branching processes are the underlying mathematical framework, and these have several key metrics that are commonly calibrated:\r\n",
    "* The household secondary attack rate (probability that a non-index case in a household gets infected)\r\n",
    "* The growth rate of the epidemic\r\n",
    "\r\n",
    "The household secondary attack rate typically only depends upon the parameter 'household_pairwise_survival_prob', however this could always be varied. The growth rate of the epidemic is more complicated, and this could depends on every parameter in the model. Typically, we calibrate the epidemic model to a growth rate when there is no contact tracing - an unconstrained epidemic model. Without contact tracing, the epidemic growth rate will depend only upon the household secondary attack rate, the outside household infectivity scaling, and the probability that a case reports their infection and isolates (which depends on the symptomatic proportion of cases)."
   ],
   "metadata": {}
  },
  {
   "cell_type": "markdown",
   "source": [
    "## Evaluating metrics\r\n",
    "\r\n",
    "By default, models will be initialised with a statistics view, which is able to estimate several metrics in a model, inclduing the growth rate and the household secondary attack rate.\r\n",
    "\r\n",
    "We configure some model parameters, set up a model, run the simulation for 25 days, and then use the statistics view to print some summaries of the simulated epidemic."
   ],
   "metadata": {}
  },
  {
   "cell_type": "code",
   "execution_count": 3,
   "source": [
    "params = {'outside_household_infectivity_scaling': 0.1,\r\n",
    "            'contact_tracing_success_prob': 0.0, # doesn't matter, no tracing\r\n",
    "            'overdispersion': 0.32,\r\n",
    "            'asymptomatic_prob': 0.2,\r\n",
    "            'asymptomatic_relative_infectivity': 0.35,\r\n",
    "            'infection_reporting_prob': 0,\r\n",
    "            'contact_trace': False,\r\n",
    "            'test_delay': 2,\r\n",
    "            'contact_trace_delay': 1,\r\n",
    "            'incubation_period_delay': 5,\r\n",
    "            'symptom_reporting_delay': 1,\r\n",
    "            'household_pairwise_survival_prob': 0.2,\r\n",
    "            'do_2_step': False,                      # doesn't matter, no tracing\r\n",
    "            'reduce_contacts_by': 0.3,\r\n",
    "            'prob_has_trace_app': 0,                 # doesn't matter, no tracing\r\n",
    "            'hh_propensity_to_use_trace_app': 1,     # doesn't matter, no tracing\r\n",
    "            'test_before_propagate_tracing': True,   # doesn't matter, no tracing\r\n",
    "            'starting_infections': 100, \r\n",
    "            'node_will_uptake_isolation_prob': 1,    # doesn't matter, no tracing\r\n",
    "            'self_isolation_duration': 0,            # doesn't matter, no tracing\r\n",
    "            'quarantine_duration': 0,                # doesn't matter, no tracing\r\n",
    "            'transmission_probability_multiplier': 1,\r\n",
    "            'propensity_imperfect_quarantine': 0,    # doesn't matter no tracing\r\n",
    "            'global_contact_reduction_imperfect_quarantine': 0, # doesn't matter, no tracing\r\n",
    "\r\n",
    "         }"
   ],
   "outputs": [],
   "metadata": {}
  },
  {
   "cell_type": "code",
   "execution_count": 4,
   "source": [
    "controller = BranchingProcessController(bpm.HouseholdLevelTracing(params))\r\n",
    "controller.graph_view.set_display(False) # don't draw the network\r\n",
    "controller.csv_view.set_display(False) # don't save csv info\r\n",
    "controller.run_simulation(25, max_active_infections=10000)"
   ],
   "outputs": [],
   "metadata": {}
  },
  {
   "cell_type": "markdown",
   "source": [
    "When estimating the growth rate, it is good practice to discard the first 10 or so days. It can take some time for the distribution of infectious ages to mix properly, and for contact tracing to be initialised."
   ],
   "metadata": {}
  },
  {
   "cell_type": "code",
   "execution_count": 5,
   "source": [
    "controller.statistics_view.growth_rate_summary(discard_first_n_days=10)"
   ],
   "outputs": [
    {
     "output_type": "stream",
     "name": "stdout",
     "text": [
      "15 time periods were used to estimate the growth rate.\n",
      "The estimated growth rate was 8.57% (95.0% CI: 7.5-9.64%) per day.\n",
      "The estimated doubling time is 8.43 (95.0% CI: 7.53-9.59) days.\n"
     ]
    }
   ],
   "metadata": {}
  },
  {
   "cell_type": "code",
   "execution_count": 6,
   "source": [
    "controller.statistics_view.household_secondary_attack_rate_summary(use_first_generation_only=False)"
   ],
   "outputs": [
    {
     "output_type": "stream",
     "name": "stdout",
     "text": [
      "Household secondary attack rate summary:\n",
      "173 local household epidemics were eligible to be included.\n",
      "All households with completed local epidemics were included. This may lead to a biased sample, as it is possible that local epidemics with a long duration were not included.\n",
      "There were 312 non-index susceptible individuals exposed, of which 193 were infected.\n",
      "This yields a household secondary attack rate of 62% (95% CI: 56-67%).\n"
     ]
    }
   ],
   "metadata": {}
  },
  {
   "cell_type": "markdown",
   "source": [
    "## Household secondary attack rate simulations"
   ],
   "metadata": {}
  },
  {
   "cell_type": "markdown",
   "source": [
    "Only households with completed local epidemics are included when estimating the household secondary attack rate. This however can lead to biased samples as households with long lasting epidemics might be excluded, and these may be likely to have larger final sizes.\r\n",
    "\r\n",
    "To get around this a second simulation has been implemented that simulates only the local epidemics, and does not simulate outside household transmission. The simulation is run until all the starting households have completed their local epidemics. This will yield a sample that can be used to obtain an unbiased estiamted of the household secondary attack rate. It is necessary to use a larger number of starting infections to obtain the household secondary attack rate."
   ],
   "metadata": {}
  },
  {
   "cell_type": "code",
   "execution_count": 7,
   "source": [
    "params['starting_infections'] = 500 # increasing the number of starting infections will increase the sample size\r\n",
    "controller = BranchingProcessController(bpm.HouseholdLevelTracing(params))\r\n",
    "controller.graph_view.set_display(False) # don't draw the network\r\n",
    "controller.csv_view.set_display(False) # don't save csv info\r\n",
    "controller.run_hh_sar_simulation()"
   ],
   "outputs": [],
   "metadata": {}
  },
  {
   "cell_type": "code",
   "execution_count": 8,
   "source": [
    "controller.statistics_view.household_secondary_attack_rate_summary(use_first_generation_only=True)"
   ],
   "outputs": [
    {
     "output_type": "stream",
     "name": "stdout",
     "text": [
      "Household secondary attack rate summary:\n",
      "499 local household epidemics were eligible to be included.\n",
      "Only the first generation of the household epidemic was included in this calculation.\n",
      "There were 1053 non-index susceptible individuals exposed, of which 809 were infected.\n",
      "This yields a household secondary attack rate of 77% (95% CI: 74-79%).\n"
     ]
    }
   ],
   "metadata": {}
  },
  {
   "cell_type": "markdown",
   "source": [
    "The previous estimate of the household secondary attack rate was around 60%, however using this alternative simulation method we find that the secondary attack rate is estimated to be much closer to 80%. This is why it is important to use the correct method when estimating the household secondary attack rate."
   ],
   "metadata": {}
  },
  {
   "cell_type": "markdown",
   "source": [
    "## Calibration"
   ],
   "metadata": {}
  },
  {
   "cell_type": "markdown",
   "source": [
    "We have seen that it is necessary to run two different types of simulations in our to compute two metrics required for calibrating the model. To make our lives easier, we have written several configuration classes. These classes contain methods that will run the model, evaluate the fit of the model, and find the optimal combination of parameters."
   ],
   "metadata": {}
  },
  {
   "cell_type": "markdown",
   "source": [
    "Suppose we want a model with a household secondary attack rate of 25%, and a growth rate of 10% per day."
   ],
   "metadata": {}
  },
  {
   "cell_type": "code",
   "execution_count": 9,
   "source": [
    "calibrator = StandardCalibrationHouseholdLevelTracing(\r\n",
    "    desired_growth_rate=0.1, \r\n",
    "    desired_hh_sar=0.2, \r\n",
    "    asymptomatic_prob=0.2, \r\n",
    "    asymptomatic_relative_infectivity=0.35,\r\n",
    "    infection_reporting_prob=0.2,\r\n",
    "    reduce_contacts_by=0.5)"
   ],
   "outputs": [],
   "metadata": {}
  },
  {
   "cell_type": "markdown",
   "source": [
    "We first perform a trial for two proposed parameters."
   ],
   "metadata": {}
  },
  {
   "cell_type": "code",
   "execution_count": 10,
   "source": [
    "calibrator.eval_metrics(\r\n",
    "    household_pairwise_survival_prob = 0.9,\r\n",
    "    outside_household_infectivity_scaling = 0.2\r\n",
    ")"
   ],
   "outputs": [
    {
     "output_type": "stream",
     "name": "stdout",
     "text": [
      "Estimating growth rate using 30 time periods\n"
     ]
    },
    {
     "output_type": "execute_result",
     "data": {
      "text/plain": [
       "{'growth_rate': 0.0034215244104689423, 'hh_sar': 0.10606060606060606}"
      ]
     },
     "metadata": {},
     "execution_count": 10
    }
   ],
   "metadata": {}
  },
  {
   "cell_type": "markdown",
   "source": [
    "So, we were quite far away. The calibrator class will evaluate the performance of these parameters."
   ],
   "metadata": {}
  },
  {
   "cell_type": "code",
   "execution_count": 11,
   "source": [
    "calibrator.evaluate_fit(\r\n",
    "    household_pairwise_survival_prob = 0.9,\r\n",
    "    outside_household_infectivity_scaling = 0.2\r\n",
    ")"
   ],
   "outputs": [
    {
     "output_type": "stream",
     "name": "stdout",
     "text": [
      "Estimating growth rate using 30 time periods\n"
     ]
    },
    {
     "output_type": "execute_result",
     "data": {
      "text/plain": [
       "0.18708774795757915"
      ]
     },
     "metadata": {},
     "execution_count": 11
    }
   ],
   "metadata": {}
  },
  {
   "cell_type": "markdown",
   "source": [
    "The household secondary attack rate is too low, we could decrease the household pairwise survival probability to increase the household secondary attack rate."
   ],
   "metadata": {}
  },
  {
   "cell_type": "code",
   "execution_count": 12,
   "source": [
    "calibrator.eval_metrics(\r\n",
    "    household_pairwise_survival_prob = 0.8,\r\n",
    "    outside_household_infectivity_scaling = 0.2\r\n",
    ")"
   ],
   "outputs": [
    {
     "output_type": "stream",
     "name": "stdout",
     "text": [
      "Estimating growth rate using 30 time periods\n"
     ]
    },
    {
     "output_type": "execute_result",
     "data": {
      "text/plain": [
       "{'growth_rate': 0.0653517347589822, 'hh_sar': 0.22484134179510426}"
      ]
     },
     "metadata": {},
     "execution_count": 12
    }
   ],
   "metadata": {}
  },
  {
   "cell_type": "code",
   "execution_count": 13,
   "source": [
    "calibrator.evaluate_fit(\r\n",
    "    household_pairwise_survival_prob = 0.8,\r\n",
    "    outside_household_infectivity_scaling = 0.2\r\n",
    ")"
   ],
   "outputs": [
    {
     "output_type": "stream",
     "name": "stdout",
     "text": [
      "Estimating growth rate using 30 time periods\n"
     ]
    },
    {
     "output_type": "execute_result",
     "data": {
      "text/plain": [
       "0.066385683081691"
      ]
     },
     "metadata": {},
     "execution_count": 13
    }
   ],
   "metadata": {}
  },
  {
   "cell_type": "markdown",
   "source": [
    "The fit has improved, as the return value is smaller. Moving on, let's use the optimisation routine to find the optimal combination of parameters. To do this, we need to supply a range of parameters. These could be set fairly wide, as the expense of requiring more simulation runs to find the optimal combination of parameters. A machine learning hyperparameter optimisation framework will handle the rest. Some of the runs could take a while, particularly if they overshoot the growth rate, as the computation time is related to the size of the epidemic."
   ],
   "metadata": {}
  },
  {
   "cell_type": "code",
   "execution_count": 14,
   "source": [
    "calibrator.optimise(\r\n",
    "    household_pairwise_survival_prob_range = [0.75, 0.95],\r\n",
    "    outside_household_infectivity_scaling_range = [0.2, 0.4],\r\n",
    "    state_criteria={\r\n",
    "        'max_time': 25,\r\n",
    "        'infection_threshold': 1e5\r\n",
    "    }\r\n",
    ")"
   ],
   "outputs": [
    {
     "output_type": "stream",
     "name": "stderr",
     "text": [
      "[INFO 08-06 10:14:42] ax.modelbridge.dispatch_utils: Using GPEI (Bayesian optimization) since there are more continuous parameters than there are categories for the unordered categorical parameters.\n",
      "[INFO 08-06 10:14:42] ax.modelbridge.dispatch_utils: Using Bayesian Optimization generation strategy: GenerationStrategy(name='Sobol+GPEI', steps=[Sobol for 5 trials, GPEI for subsequent trials]). Iterations after 5 will take longer to generate due to  model-fitting.\n",
      "[INFO 08-06 10:14:42] ax.service.managed_loop: Started full optimization with 20 steps.\n",
      "[INFO 08-06 10:14:42] ax.service.managed_loop: Running optimization trial 1...\n",
      "[INFO 08-06 10:14:49] ax.service.managed_loop: Running optimization trial 2...\n",
      "[INFO 08-06 10:14:56] ax.service.managed_loop: Running optimization trial 3...\n",
      "[INFO 08-06 10:15:05] ax.service.managed_loop: Running optimization trial 4...\n",
      "[INFO 08-06 10:15:10] ax.service.managed_loop: Running optimization trial 5...\n",
      "[INFO 08-06 10:15:16] ax.service.managed_loop: Running optimization trial 6...\n",
      "[INFO 08-06 10:15:24] ax.service.managed_loop: Running optimization trial 7...\n",
      "[INFO 08-06 10:15:29] ax.service.managed_loop: Running optimization trial 8...\n",
      "[INFO 08-06 10:15:32] ax.service.managed_loop: Running optimization trial 9...\n",
      "[INFO 08-06 10:15:37] ax.service.managed_loop: Running optimization trial 10...\n",
      "[INFO 08-06 10:15:41] ax.service.managed_loop: Running optimization trial 11...\n",
      "[INFO 08-06 10:15:47] ax.service.managed_loop: Running optimization trial 12...\n",
      "[INFO 08-06 10:15:52] ax.service.managed_loop: Running optimization trial 13...\n",
      "[INFO 08-06 10:16:02] ax.service.managed_loop: Running optimization trial 14...\n",
      "[INFO 08-06 10:16:06] ax.service.managed_loop: Running optimization trial 15...\n",
      "[INFO 08-06 10:16:10] ax.service.managed_loop: Running optimization trial 16...\n",
      "[INFO 08-06 10:16:15] ax.service.managed_loop: Running optimization trial 17...\n",
      "[INFO 08-06 10:16:21] ax.service.managed_loop: Running optimization trial 18...\n",
      "[INFO 08-06 10:16:27] ax.service.managed_loop: Running optimization trial 19...\n",
      "[INFO 08-06 10:16:31] ax.service.managed_loop: Running optimization trial 20...\n"
     ]
    },
    {
     "output_type": "execute_result",
     "data": {
      "text/plain": [
       "({'outside_household_infectivity_scaling': 0.2369218112772867,\n",
       "  'household_pairwise_survival_prob': 0.8104007705085332},\n",
       " ({'objective': 0.026804953615459474},\n",
       "  {'objective': {'objective': 7.980087959078822e-06}}))"
      ]
     },
     "metadata": {},
     "execution_count": 14
    }
   ],
   "metadata": {}
  },
  {
   "cell_type": "markdown",
   "source": [
    "The optimal parameter combinations can be recovered using:"
   ],
   "metadata": {}
  },
  {
   "cell_type": "code",
   "execution_count": 15,
   "source": [
    "calibrator.best_parameters"
   ],
   "outputs": [
    {
     "output_type": "execute_result",
     "data": {
      "text/plain": [
       "{'outside_household_infectivity_scaling': 0.2369218112772867,\n",
       " 'household_pairwise_survival_prob': 0.8104007705085332}"
      ]
     },
     "metadata": {},
     "execution_count": 15
    }
   ],
   "metadata": {}
  },
  {
   "cell_type": "markdown",
   "source": [
    "Finally, we can easily sample the fitting metrics to check that the fit looks good."
   ],
   "metadata": {}
  },
  {
   "cell_type": "code",
   "execution_count": 17,
   "source": [
    "outputs = calibrator.get_fitted_model_metric_samples(n_obs = 20, state_criteria={'max_time': 25})"
   ],
   "outputs": [
    {
     "output_type": "error",
     "ename": "TypeError",
     "evalue": "get_fitted_model_metric_samples() got an unexpected keyword argument 'state_criteria'",
     "traceback": [
      "\u001b[1;31m---------------------------------------------------------------------------\u001b[0m",
      "\u001b[1;31mTypeError\u001b[0m                                 Traceback (most recent call last)",
      "\u001b[1;32m<ipython-input-17-979a98720bf3>\u001b[0m in \u001b[0;36m<module>\u001b[1;34m\u001b[0m\n\u001b[1;32m----> 1\u001b[1;33m \u001b[0moutputs\u001b[0m \u001b[1;33m=\u001b[0m \u001b[0mcalibrator\u001b[0m\u001b[1;33m.\u001b[0m\u001b[0mget_fitted_model_metric_samples\u001b[0m\u001b[1;33m(\u001b[0m\u001b[0mn_obs\u001b[0m \u001b[1;33m=\u001b[0m \u001b[1;36m20\u001b[0m\u001b[1;33m,\u001b[0m \u001b[0mstate_criteria\u001b[0m\u001b[1;33m=\u001b[0m\u001b[1;33m{\u001b[0m\u001b[1;34m'max_time'\u001b[0m\u001b[1;33m:\u001b[0m \u001b[1;36m25\u001b[0m\u001b[1;33m}\u001b[0m\u001b[1;33m)\u001b[0m\u001b[1;33m\u001b[0m\u001b[1;33m\u001b[0m\u001b[0m\n\u001b[0m",
      "\u001b[1;31mTypeError\u001b[0m: get_fitted_model_metric_samples() got an unexpected keyword argument 'state_criteria'"
     ]
    }
   ],
   "metadata": {}
  },
  {
   "cell_type": "code",
   "execution_count": null,
   "source": [
    "growth_rates = [\r\n",
    "    output['growth_rate'] for output in outputs\r\n",
    "]\r\n",
    "\r\n",
    "hh_sars = [\r\n",
    "    output['hh_sar'] for output in outputs\r\n",
    "]\r\n",
    "\r\n",
    "outputs"
   ],
   "outputs": [
    {
     "output_type": "execute_result",
     "data": {
      "text/plain": [
       "[{'growth_rate': 0.11082584992572188, 'hh_sar': 0.18533157663592445},\n",
       " {'growth_rate': 0.10738751955334369, 'hh_sar': 0.21236059479553904},\n",
       " {'growth_rate': 0.09084650192266462, 'hh_sar': 0.19239274657231314},\n",
       " {'growth_rate': 0.10075203747153494, 'hh_sar': 0.2336119665640123},\n",
       " {'growth_rate': 0.10735735237940272, 'hh_sar': 0.2076707202993452},\n",
       " {'growth_rate': 0.08313646738902405, 'hh_sar': 0.23312331233123312},\n",
       " {'growth_rate': 0.08981749442949848, 'hh_sar': 0.2202781516375056},\n",
       " {'growth_rate': 0.09322273991873418, 'hh_sar': 0.21407121407121407},\n",
       " {'growth_rate': 0.09289832274649205, 'hh_sar': 0.21107580571947346},\n",
       " {'growth_rate': 0.09344663727571464, 'hh_sar': 0.20498614958448755},\n",
       " {'growth_rate': 0.096859550802151, 'hh_sar': 0.21289151157512484},\n",
       " {'growth_rate': 0.10469928901617155, 'hh_sar': 0.2064975522919448},\n",
       " {'growth_rate': 0.10857606282994096, 'hh_sar': 0.20827710301394511},\n",
       " {'growth_rate': 0.09836023406359318, 'hh_sar': 0.20940959409594095},\n",
       " {'growth_rate': 0.08472873842505456, 'hh_sar': 0.20318181818181819},\n",
       " {'growth_rate': 0.0941299371383913, 'hh_sar': 0.2197851387645479},\n",
       " {'growth_rate': 0.09565612682725907, 'hh_sar': 0.20922795797167656},\n",
       " {'growth_rate': 0.07646034952842615, 'hh_sar': 0.20435967302452315},\n",
       " {'growth_rate': 0.09383057360324933, 'hh_sar': 0.17884702678166137},\n",
       " {'growth_rate': 0.08110175647926467, 'hh_sar': 0.19276556776556777}]"
      ]
     },
     "metadata": {},
     "execution_count": 18
    }
   ],
   "metadata": {}
  },
  {
   "cell_type": "code",
   "execution_count": null,
   "source": [
    "sns.displot(growth_rates)"
   ],
   "outputs": [
    {
     "output_type": "execute_result",
     "data": {
      "text/plain": [
       "<seaborn.axisgrid.FacetGrid at 0x295c36a5040>"
      ]
     },
     "metadata": {},
     "execution_count": 26
    },
    {
     "output_type": "display_data",
     "data": {
      "text/plain": [
       "<Figure size 360x360 with 1 Axes>"
      ],
      "image/png": "[encoded data removed]"
     },
     "metadata": {
      "needs_background": "light"
     }
    }
   ],
   "metadata": {}
  },
  {
   "cell_type": "code",
   "execution_count": null,
   "source": [
    "sns.displot(hh_sars)"
   ],
   "outputs": [
    {
     "output_type": "execute_result",
     "data": {
      "text/plain": [
       "<seaborn.axisgrid.FacetGrid at 0x295c367cd60>"
      ]
     },
     "metadata": {},
     "execution_count": 27
    },
    {
     "output_type": "display_data",
     "data": {
      "text/plain": [
       "<Figure size 360x360 with 1 Axes>"
      ],
      "image/png": "[encoded data removed]"
     },
     "metadata": {
      "needs_background": "light"
     }
    }
   ],
   "metadata": {}
  },
  {
   "cell_type": "markdown",
   "source": [],
   "metadata": {}
  }
 ],
 "metadata": {
  "orig_nbformat": 4,
  "language_info": {
   "name": "python",
   "version": "3.9.4",
   "mimetype": "text/x-python",
   "codemirror_mode": {
    "name": "ipython",
    "version": 3
   },
   "pygments_lexer": "ipython3",
   "nbconvert_exporter": "python",
   "file_extension": ".py"
  },
  "kernelspec": {
   "name": "python3",
   "display_name": "Python 3.9.4 64-bit (conda)"
  },
  "interpreter": {
   "hash": "5e088ab515b9ff01afc6092114ac7786286eca1d23e3587660ba5a8d6e06cf28"
  }
 },
 "nbformat": 4,
 "nbformat_minor": 2
}