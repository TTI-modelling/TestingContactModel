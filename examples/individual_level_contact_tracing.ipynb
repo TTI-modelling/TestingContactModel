{
 "metadata": {
  "language_info": {
   "codemirror_mode": {
    "name": "ipython",
    "version": 3
   },
   "file_extension": ".py",
   "mimetype": "text/x-python",
   "name": "python",
   "nbconvert_exporter": "python",
   "pygments_lexer": "ipython3",
   "version": "3.9.2"
  },
  "orig_nbformat": 2,
  "kernelspec": {
   "name": "python392jvsc74a57bd0cd3f1befe734ef76657bf4cb28410d324f710ae4ddab2887191ba75a6c886d82",
   "display_name": "Python 3.9.2 64-bit (conda)"
  }
 },
 "nbformat": 4,
 "nbformat_minor": 2,
 "cells": [
  {
   "cell_type": "code",
   "execution_count": 1,
   "metadata": {},
   "outputs": [],
   "source": [
    "import household_contact_tracing.branching_process_models as bpm\n",
    "from household_contact_tracing.simulation_controller import SimulationController"
   ]
  },
  {
   "source": [
    "# Notebook purpose\n",
    "To provide minimal working examples of various model functionalities.\n",
    "\n",
    "# Individual-level contact tracing\n",
    "Previously, we implemented household-level contact tracing, where upon detection of a case in a household, all members of the household have their contacts traced. Household-level contact tracing is motivated by the significant levels of pre-symptomatic and asymptomatic transmission observed in SARS-CoV-2, which means that by the time you detect a case in a household there is non-zero probability that other members of the household have already propagated the infection. Household-level contact tracing is a more pro-active approach to stopping infection, however often difficult to implement in practice.\n",
    "\n",
    "Individual-level contact tracing is different, in that an individual only has their contacts traced when they are detected as a case. This will immediately initiate quarantine of their household members, but those household members will not propagate contact tracing until they are detected as an infection. At a high level, this is how contact tracing is implemented by NHS England Test & Trace."
   ],
   "cell_type": "markdown",
   "metadata": {}
  },
  {
   "source": [
    "Note: I've not implemented the infection dynamics examples here, since it ought to be exactly the same code as in household_level_contact_tracing.ipynb."
   ],
   "cell_type": "markdown",
   "metadata": {}
  },
  {
   "source": [
    "# 0.1  - Default parameters\n",
    "We initialise some default parameters that we will modify as we go"
   ],
   "cell_type": "markdown",
   "metadata": {}
  },
  {
   "cell_type": "code",
   "execution_count": 7,
   "metadata": {},
   "outputs": [],
   "source": [
    "# some default parameters that we use in nearly all simulations without modifying\n",
    "# specifies a fairly typical epidemic and contact tracing process\n",
    "\n",
    "base_params = {\n",
    "    'outside_household_infectivity_scaling': 0.7,\n",
    "    'contact_tracing_success_prob': 0.7,\n",
    "    'overdispersion': 0.32,\n",
    "    'asymptomatic_prob': 0.2,\n",
    "    'asymptomatic_relative_infectivity': 0.35,\n",
    "    'infection_reporting_prob': 0.5,\n",
    "    'contact_trace': True,\n",
    "    'test_delay': 2,\n",
    "    'contact_trace_delay': 1,\n",
    "    'incubation_period_delay': 5,\n",
    "    'symptom_reporting_delay': 1,\n",
    "    'household_pairwise_survival_prob': 0.2,\n",
    "    'reduce_contacts_by': 0.3,\n",
    "    'starting_infections': 1,\n",
    "    'node_will_uptake_isolation_prob': 1,\n",
    "    'self_isolation_duration': 7,\n",
    "    'quarantine_duration': 10,\n",
    "    'transmission_probability_multiplier': 1,\n",
    "    'propensity_imperfect_quarantine': 0,\n",
    "    'global_contact_reduction_imperfect_quarantine': 0\n",
    "}"
   ]
  },
  {
   "source": [
    "Now, we add some parameters that are specific to the individual-level contact tracing model."
   ],
   "cell_type": "markdown",
   "metadata": {}
  },
  {
   "source": [
    "Previously, all contact were being traced, regardless of when the contact occurred\n",
    "we now explicitely only trace contact that occurred 2 days prior to symptom onset, and 5 days after symptom onset, in line with NHS England Test & Trace policy."
   ],
   "cell_type": "markdown",
   "metadata": {}
  },
  {
   "cell_type": "code",
   "execution_count": null,
   "metadata": {},
   "outputs": [],
   "source": [
    "base_params['number_of_days_to_trace_backwards'] = 2\n",
    "base_params['number_of_days_to_trace_forwards'] = 5"
   ]
  },
  {
   "source": [
    "A model of recall decay is now incorporated, where the probability of recalling contacts decays as the amount of time that has passed since the contact has occurred increases."
   ],
   "cell_type": "markdown",
   "metadata": {}
  },
  {
   "cell_type": "code",
   "execution_count": 12,
   "metadata": {},
   "outputs": [],
   "source": [
    "# this is badly parameterised, but a value of 1 implies there is no recall decay\n",
    "base_params['recall_probability_fall_off'] = 1"
   ]
  },
  {
   "source": [
    "An optional contact tracing behaviour is included, where if a traced individual develops symptoms, then this can be used to propagate contact tracing without the need for a test. In other words, symptom onset in a traced individual is sufficient evidence to initiate tracing, due to the high proabbility that they are infected with SARS-CoV-2, and not a similar influenza-like illness."
   ],
   "cell_type": "markdown",
   "metadata": {}
  },
  {
   "cell_type": "code",
   "execution_count": 13,
   "metadata": {},
   "outputs": [],
   "source": [
    "# Default value is true, in line with current policy\n",
    "base_params['probable_infections_need_test'] = True"
   ]
  },
  {
   "source": [
    "# 1.1 - Simple individual-level contact tracing"
   ],
   "cell_type": "markdown",
   "metadata": {}
  },
  {
   "cell_type": "code",
   "execution_count": 17,
   "metadata": {},
   "outputs": [
    {
     "output_type": "execute_result",
     "data": {
      "text/plain": [
       "{'outside_household_infectivity_scaling': 0.7,\n",
       " 'contact_tracing_success_prob': 0.7,\n",
       " 'overdispersion': 0.32,\n",
       " 'asymptomatic_prob': 0.2,\n",
       " 'asymptomatic_relative_infectivity': 0.35,\n",
       " 'infection_reporting_prob': 0.5,\n",
       " 'contact_trace': True,\n",
       " 'test_delay': 2,\n",
       " 'contact_trace_delay': 1,\n",
       " 'incubation_period_delay': 5,\n",
       " 'symptom_reporting_delay': 1,\n",
       " 'household_pairwise_survival_prob': 0.2,\n",
       " 'reduce_contacts_by': 0.3,\n",
       " 'starting_infections': 1,\n",
       " 'node_will_uptake_isolation_prob': 1,\n",
       " 'self_isolation_duration': 7,\n",
       " 'quarantine_duration': 10,\n",
       " 'transmission_probability_multiplier': 1,\n",
       " 'propensity_imperfect_quarantine': 0,\n",
       " 'global_contact_reduction_imperfect_quarantine': 0,\n",
       " 'recall_probability_fall_off': 1,\n",
       " 'probable_infections_need_test': True}"
      ]
     },
     "metadata": {},
     "execution_count": 17
    }
   ],
   "source": [
    "base_params"
   ]
  },
  {
   "cell_type": "code",
   "execution_count": 20,
   "metadata": {},
   "outputs": [
    {
     "output_type": "stream",
     "name": "stdout",
     "text": [
      "In ready/initialised state!\nChanging to running state\nshell view observed state change. New state: RunningState\nshell view observed that Model has been incremented by one step\ntimeline graph view observed that graph changed\nshell view observed that Model has been incremented by one step\ntimeline graph view observed that graph changed\nshell view observed that Model has been incremented by one step\ntimeline graph view observed that graph changed\nshell view observed that Model has been incremented by one step\ntimeline graph view observed that graph changed\nshell view observed graph change\nshell view observed that Model has been incremented by one step\ntimeline graph view observed that graph changed\nshell view observed graph change\nshell view observed that Model has been incremented by one step\ntimeline graph view observed that graph changed\nshell view observed graph change\nshell view observed that Model has been incremented by one step\ntimeline graph view observed that graph changed\nshell view observed graph change\nshell view observed that Model has been incremented by one step\ntimeline graph view observed that graph changed\n"
     ]
    },
    {
     "output_type": "error",
     "ename": "TypeError",
     "evalue": "prob_testing_positive_pcr() takes 1 positional argument but 2 were given",
     "traceback": [
      "\u001b[1;31m---------------------------------------------------------------------------\u001b[0m",
      "\u001b[1;31mTypeError\u001b[0m                                 Traceback (most recent call last)",
      "\u001b[1;32m<ipython-input-20-fa7111acb627>\u001b[0m in \u001b[0;36m<module>\u001b[1;34m\u001b[0m\n\u001b[0;32m      1\u001b[0m \u001b[0mcontroller\u001b[0m \u001b[1;33m=\u001b[0m \u001b[0mSimulationController\u001b[0m\u001b[1;33m(\u001b[0m\u001b[0mbpm\u001b[0m\u001b[1;33m.\u001b[0m\u001b[0mIndividualLevelContactTracing\u001b[0m\u001b[1;33m(\u001b[0m\u001b[0mbase_params\u001b[0m\u001b[1;33m)\u001b[0m\u001b[1;33m)\u001b[0m\u001b[1;33m\u001b[0m\u001b[1;33m\u001b[0m\u001b[0m\n\u001b[1;32m----> 2\u001b[1;33m \u001b[0mcontroller\u001b[0m\u001b[1;33m.\u001b[0m\u001b[0mrun_simulation\u001b[0m\u001b[1;33m(\u001b[0m\u001b[1;36m15\u001b[0m\u001b[1;33m)\u001b[0m\u001b[1;33m\u001b[0m\u001b[1;33m\u001b[0m\u001b[0m\n\u001b[0m",
      "\u001b[1;32mc:\\Users\\mfyles\\Documents\\GitHub\\TestingContactModel\\household_contact_tracing\\simulation_controller.py\u001b[0m in \u001b[0;36mrun_simulation\u001b[1;34m(self, num_steps, infection_threshold)\u001b[0m\n\u001b[0;32m     38\u001b[0m     \u001b[1;32mdef\u001b[0m \u001b[0mrun_simulation\u001b[0m\u001b[1;33m(\u001b[0m\u001b[0mself\u001b[0m\u001b[1;33m,\u001b[0m \u001b[0mnum_steps\u001b[0m\u001b[1;33m:\u001b[0m \u001b[0mint\u001b[0m \u001b[1;33m=\u001b[0m \u001b[1;36m20\u001b[0m\u001b[1;33m,\u001b[0m \u001b[0minfection_threshold\u001b[0m\u001b[1;33m:\u001b[0m \u001b[0mint\u001b[0m \u001b[1;33m=\u001b[0m \u001b[1;36m5000\u001b[0m\u001b[1;33m)\u001b[0m\u001b[1;33m:\u001b[0m\u001b[1;33m\u001b[0m\u001b[1;33m\u001b[0m\u001b[0m\n\u001b[0;32m     39\u001b[0m         \u001b[1;34m\"\"\" Run the simulation.\"\"\"\u001b[0m\u001b[1;33m\u001b[0m\u001b[1;33m\u001b[0m\u001b[0m\n\u001b[1;32m---> 40\u001b[1;33m         \u001b[0mself\u001b[0m\u001b[1;33m.\u001b[0m\u001b[0m_model\u001b[0m\u001b[1;33m.\u001b[0m\u001b[0mrun_simulation\u001b[0m\u001b[1;33m(\u001b[0m\u001b[0mnum_steps\u001b[0m\u001b[1;33m,\u001b[0m \u001b[0minfection_threshold\u001b[0m\u001b[1;33m)\u001b[0m\u001b[1;33m\u001b[0m\u001b[1;33m\u001b[0m\u001b[0m\n\u001b[0m\u001b[0;32m     41\u001b[0m \u001b[1;33m\u001b[0m\u001b[0m\n\u001b[0;32m     42\u001b[0m     \u001b[1;32mdef\u001b[0m \u001b[0mset_params\u001b[0m\u001b[1;33m(\u001b[0m\u001b[0mself\u001b[0m\u001b[1;33m,\u001b[0m \u001b[0mparams\u001b[0m\u001b[1;33m)\u001b[0m\u001b[1;33m:\u001b[0m\u001b[1;33m\u001b[0m\u001b[1;33m\u001b[0m\u001b[0m\n",
      "\u001b[1;32mc:\\Users\\mfyles\\Documents\\GitHub\\TestingContactModel\\household_contact_tracing\\branching_process_models.py\u001b[0m in \u001b[0;36mrun_simulation\u001b[1;34m(self, max_time, infection_threshold)\u001b[0m\n\u001b[0;32m    126\u001b[0m \u001b[1;33m\u001b[0m\u001b[0m\n\u001b[0;32m    127\u001b[0m             \u001b[1;31m# This chunk of code executes one step (a days worth of infections and contact tracings)\u001b[0m\u001b[1;33m\u001b[0m\u001b[1;33m\u001b[0m\u001b[1;33m\u001b[0m\u001b[0m\n\u001b[1;32m--> 128\u001b[1;33m             \u001b[0mself\u001b[0m\u001b[1;33m.\u001b[0m\u001b[0msimulate_one_step\u001b[0m\u001b[1;33m(\u001b[0m\u001b[1;33m)\u001b[0m\u001b[1;33m\u001b[0m\u001b[1;33m\u001b[0m\u001b[0m\n\u001b[0m\u001b[0;32m    129\u001b[0m \u001b[1;33m\u001b[0m\u001b[0m\n\u001b[0;32m    130\u001b[0m             \u001b[1;31m# If graph changed, tell parent\u001b[0m\u001b[1;33m\u001b[0m\u001b[1;33m\u001b[0m\u001b[1;33m\u001b[0m\u001b[0m\n",
      "\u001b[1;32mc:\\Users\\mfyles\\Documents\\GitHub\\TestingContactModel\\household_contact_tracing\\branching_process_models.py\u001b[0m in \u001b[0;36msimulate_one_step\u001b[1;34m(self)\u001b[0m\n\u001b[0;32m     96\u001b[0m         \u001b[1;31m# propagate contact tracing\u001b[0m\u001b[1;33m\u001b[0m\u001b[1;33m\u001b[0m\u001b[1;33m\u001b[0m\u001b[0m\n\u001b[0;32m     97\u001b[0m         \u001b[1;32mfor\u001b[0m \u001b[0mstep\u001b[0m \u001b[1;32min\u001b[0m \u001b[0mrange\u001b[0m\u001b[1;33m(\u001b[0m\u001b[1;36m5\u001b[0m\u001b[1;33m)\u001b[0m\u001b[1;33m:\u001b[0m\u001b[1;33m\u001b[0m\u001b[1;33m\u001b[0m\u001b[0m\n\u001b[1;32m---> 98\u001b[1;33m             \u001b[0mself\u001b[0m\u001b[1;33m.\u001b[0m\u001b[0mcontact_tracing\u001b[0m\u001b[1;33m.\u001b[0m\u001b[0mincrement\u001b[0m\u001b[1;33m(\u001b[0m\u001b[0mself\u001b[0m\u001b[1;33m.\u001b[0m\u001b[0mtime\u001b[0m\u001b[1;33m)\u001b[0m\u001b[1;33m\u001b[0m\u001b[1;33m\u001b[0m\u001b[0m\n\u001b[0m\u001b[0;32m     99\u001b[0m         \u001b[1;31m# node recoveries\u001b[0m\u001b[1;33m\u001b[0m\u001b[1;33m\u001b[0m\u001b[1;33m\u001b[0m\u001b[0m\n\u001b[0;32m    100\u001b[0m         \u001b[0mself\u001b[0m\u001b[1;33m.\u001b[0m\u001b[0minfection\u001b[0m\u001b[1;33m.\u001b[0m\u001b[0mperform_recoveries\u001b[0m\u001b[1;33m(\u001b[0m\u001b[0mself\u001b[0m\u001b[1;33m.\u001b[0m\u001b[0mtime\u001b[0m\u001b[1;33m)\u001b[0m\u001b[1;33m\u001b[0m\u001b[1;33m\u001b[0m\u001b[0m\n",
      "\u001b[1;32mc:\\Users\\mfyles\\Documents\\GitHub\\TestingContactModel\\household_contact_tracing\\contact_tracing.py\u001b[0m in \u001b[0;36mincrement\u001b[1;34m(self, time)\u001b[0m\n\u001b[0;32m    143\u001b[0m     \u001b[1;32mdef\u001b[0m \u001b[0mincrement\u001b[0m\u001b[1;33m(\u001b[0m\u001b[0mself\u001b[0m\u001b[1;33m,\u001b[0m \u001b[0mtime\u001b[0m\u001b[1;33m:\u001b[0m \u001b[0mint\u001b[0m\u001b[1;33m)\u001b[0m\u001b[1;33m:\u001b[0m\u001b[1;33m\u001b[0m\u001b[1;33m\u001b[0m\u001b[0m\n\u001b[0;32m    144\u001b[0m         \u001b[1;32mif\u001b[0m \u001b[0mself\u001b[0m\u001b[1;33m.\u001b[0m\u001b[0mincrement_behaviour\u001b[0m\u001b[1;33m:\u001b[0m\u001b[1;33m\u001b[0m\u001b[1;33m\u001b[0m\u001b[0m\n\u001b[1;32m--> 145\u001b[1;33m             \u001b[0mself\u001b[0m\u001b[1;33m.\u001b[0m\u001b[0mincrement_behaviour\u001b[0m\u001b[1;33m.\u001b[0m\u001b[0mincrement_contact_tracing\u001b[0m\u001b[1;33m(\u001b[0m\u001b[0mtime\u001b[0m\u001b[1;33m)\u001b[0m\u001b[1;33m\u001b[0m\u001b[1;33m\u001b[0m\u001b[0m\n\u001b[0m\u001b[0;32m    146\u001b[0m \u001b[1;33m\u001b[0m\u001b[0m\n\u001b[0;32m    147\u001b[0m     \u001b[1;32mdef\u001b[0m \u001b[0mreceive_pcr_test_results\u001b[0m\u001b[1;33m(\u001b[0m\u001b[0mself\u001b[0m\u001b[1;33m,\u001b[0m \u001b[0mtime\u001b[0m\u001b[1;33m:\u001b[0m \u001b[0mint\u001b[0m\u001b[1;33m)\u001b[0m\u001b[1;33m:\u001b[0m\u001b[1;33m\u001b[0m\u001b[1;33m\u001b[0m\u001b[0m\n",
      "\u001b[1;32mc:\\Users\\mfyles\\Documents\\GitHub\\TestingContactModel\\household_contact_tracing\\behaviours\\increment_tracing.py\u001b[0m in \u001b[0;36mincrement_contact_tracing\u001b[1;34m(self, time)\u001b[0m\n\u001b[0;32m    178\u001b[0m         \u001b[1;31m# Isolate all households under observation that now display symptoms (excludes those who will not take up\u001b[0m\u001b[1;33m\u001b[0m\u001b[1;33m\u001b[0m\u001b[1;33m\u001b[0m\u001b[0m\n\u001b[0;32m    179\u001b[0m         \u001b[1;31m# isolation if prob <1)\u001b[0m\u001b[1;33m\u001b[0m\u001b[1;33m\u001b[0m\u001b[1;33m\u001b[0m\u001b[0m\n\u001b[1;32m--> 180\u001b[1;33m         \u001b[0mself\u001b[0m\u001b[1;33m.\u001b[0m\u001b[0mcontact_tracing\u001b[0m\u001b[1;33m.\u001b[0m\u001b[0mreceive_pcr_test_results\u001b[0m\u001b[1;33m(\u001b[0m\u001b[0mtime\u001b[0m\u001b[1;33m)\u001b[0m\u001b[1;33m\u001b[0m\u001b[1;33m\u001b[0m\u001b[0m\n\u001b[0m\u001b[0;32m    181\u001b[0m \u001b[1;33m\u001b[0m\u001b[0m\n\u001b[0;32m    182\u001b[0m         \u001b[1;32mfor\u001b[0m \u001b[0mnode\u001b[0m \u001b[1;32min\u001b[0m \u001b[0mself\u001b[0m\u001b[1;33m.\u001b[0m\u001b[0m_network\u001b[0m\u001b[1;33m.\u001b[0m\u001b[0mall_nodes\u001b[0m\u001b[1;33m(\u001b[0m\u001b[1;33m)\u001b[0m\u001b[1;33m:\u001b[0m\u001b[1;33m\u001b[0m\u001b[1;33m\u001b[0m\u001b[0m\n",
      "\u001b[1;32mc:\\Users\\mfyles\\Documents\\GitHub\\TestingContactModel\\household_contact_tracing\\contact_tracing.py\u001b[0m in \u001b[0;36mreceive_pcr_test_results\u001b[1;34m(self, time)\u001b[0m\n\u001b[0;32m    147\u001b[0m     \u001b[1;32mdef\u001b[0m \u001b[0mreceive_pcr_test_results\u001b[0m\u001b[1;33m(\u001b[0m\u001b[0mself\u001b[0m\u001b[1;33m,\u001b[0m \u001b[0mtime\u001b[0m\u001b[1;33m:\u001b[0m \u001b[0mint\u001b[0m\u001b[1;33m)\u001b[0m\u001b[1;33m:\u001b[0m\u001b[1;33m\u001b[0m\u001b[1;33m\u001b[0m\u001b[0m\n\u001b[0;32m    148\u001b[0m         \u001b[1;32mif\u001b[0m \u001b[0mself\u001b[0m\u001b[1;33m.\u001b[0m\u001b[0mpcr_testing_behaviour\u001b[0m\u001b[1;33m:\u001b[0m\u001b[1;33m\u001b[0m\u001b[1;33m\u001b[0m\u001b[0m\n\u001b[1;32m--> 149\u001b[1;33m             \u001b[0mself\u001b[0m\u001b[1;33m.\u001b[0m\u001b[0mpcr_testing_behaviour\u001b[0m\u001b[1;33m.\u001b[0m\u001b[0mreceive_pcr_test_results\u001b[0m\u001b[1;33m(\u001b[0m\u001b[0mtime\u001b[0m\u001b[1;33m)\u001b[0m\u001b[1;33m\u001b[0m\u001b[1;33m\u001b[0m\u001b[0m\n\u001b[0m\u001b[0;32m    150\u001b[0m \u001b[1;33m\u001b[0m\u001b[0m\n\u001b[0;32m    151\u001b[0m     \u001b[1;32mdef\u001b[0m \u001b[0mpcr_test_node\u001b[0m\u001b[1;33m(\u001b[0m\u001b[0mself\u001b[0m\u001b[1;33m,\u001b[0m \u001b[0mnode\u001b[0m\u001b[1;33m:\u001b[0m \u001b[0mNode\u001b[0m\u001b[1;33m,\u001b[0m \u001b[0mtime\u001b[0m\u001b[1;33m:\u001b[0m \u001b[0mint\u001b[0m\u001b[1;33m)\u001b[0m\u001b[1;33m:\u001b[0m\u001b[1;33m\u001b[0m\u001b[1;33m\u001b[0m\u001b[0m\n",
      "\u001b[1;32mc:\\Users\\mfyles\\Documents\\GitHub\\TestingContactModel\\household_contact_tracing\\behaviours\\pcr_testing.py\u001b[0m in \u001b[0;36mreceive_pcr_test_results\u001b[1;34m(self, time)\u001b[0m\n\u001b[0;32m     44\u001b[0m                 \u001b[1;32mif\u001b[0m \u001b[1;32mnot\u001b[0m \u001b[0mnode\u001b[0m\u001b[1;33m.\u001b[0m\u001b[0mcontact_traced\u001b[0m\u001b[1;33m:\u001b[0m\u001b[1;33m\u001b[0m\u001b[1;33m\u001b[0m\u001b[0m\n\u001b[0;32m     45\u001b[0m                     \u001b[1;32mif\u001b[0m \u001b[1;32mnot\u001b[0m \u001b[0mnode\u001b[0m\u001b[1;33m.\u001b[0m\u001b[0mreceived_result\u001b[0m\u001b[1;33m:\u001b[0m\u001b[1;33m\u001b[0m\u001b[1;33m\u001b[0m\u001b[0m\n\u001b[1;32m---> 46\u001b[1;33m                         \u001b[0mself\u001b[0m\u001b[1;33m.\u001b[0m\u001b[0mpcr_test_node\u001b[0m\u001b[1;33m(\u001b[0m\u001b[0mnode\u001b[0m\u001b[1;33m,\u001b[0m \u001b[0mtime\u001b[0m\u001b[1;33m)\u001b[0m\u001b[1;33m\u001b[0m\u001b[1;33m\u001b[0m\u001b[0m\n\u001b[0m\u001b[0;32m     47\u001b[0m \u001b[1;33m\u001b[0m\u001b[0m\n\u001b[0;32m     48\u001b[0m         \u001b[1;31m# contact traced nodes\u001b[0m\u001b[1;33m\u001b[0m\u001b[1;33m\u001b[0m\u001b[1;33m\u001b[0m\u001b[0m\n",
      "\u001b[1;32mc:\\Users\\mfyles\\Documents\\GitHub\\TestingContactModel\\household_contact_tracing\\behaviours\\pcr_testing.py\u001b[0m in \u001b[0;36mpcr_test_node\u001b[1;34m(self, node, time)\u001b[0m\n\u001b[0;32m     56\u001b[0m         \u001b[0mnode\u001b[0m\u001b[1;33m.\u001b[0m\u001b[0mreceived_result\u001b[0m \u001b[1;33m=\u001b[0m \u001b[1;32mTrue\u001b[0m\u001b[1;33m\u001b[0m\u001b[1;33m\u001b[0m\u001b[0m\n\u001b[0;32m     57\u001b[0m         \u001b[0minfectious_age_when_tested\u001b[0m \u001b[1;33m=\u001b[0m \u001b[0mtime\u001b[0m \u001b[1;33m-\u001b[0m \u001b[0mnode\u001b[0m\u001b[1;33m.\u001b[0m\u001b[0mtesting_delay\u001b[0m \u001b[1;33m-\u001b[0m \u001b[0mnode\u001b[0m\u001b[1;33m.\u001b[0m\u001b[0mtime_infected\u001b[0m\u001b[1;33m\u001b[0m\u001b[1;33m\u001b[0m\u001b[0m\n\u001b[1;32m---> 58\u001b[1;33m         \u001b[0mprob_positive_result\u001b[0m \u001b[1;33m=\u001b[0m \u001b[0mself\u001b[0m\u001b[1;33m.\u001b[0m\u001b[0mcontact_tracing\u001b[0m\u001b[1;33m.\u001b[0m\u001b[0mprob_testing_positive_pcr_func\u001b[0m\u001b[1;33m(\u001b[0m\u001b[0minfectious_age_when_tested\u001b[0m\u001b[1;33m)\u001b[0m\u001b[1;33m\u001b[0m\u001b[1;33m\u001b[0m\u001b[0m\n\u001b[0m\u001b[0;32m     59\u001b[0m         \u001b[0mnode\u001b[0m\u001b[1;33m.\u001b[0m\u001b[0mavenue_of_testing\u001b[0m \u001b[1;33m=\u001b[0m \u001b[0mTestType\u001b[0m\u001b[1;33m.\u001b[0m\u001b[0mpcr\u001b[0m\u001b[1;33m\u001b[0m\u001b[1;33m\u001b[0m\u001b[0m\n\u001b[0;32m     60\u001b[0m \u001b[1;33m\u001b[0m\u001b[0m\n",
      "\u001b[1;31mTypeError\u001b[0m: prob_testing_positive_pcr() takes 1 positional argument but 2 were given"
     ]
    }
   ],
   "source": [
    "controller = SimulationController(bpm.IndividualLevelContactTracing(base_params))\n",
    "controller.run_simulation(15)"
   ]
  },
  {
   "cell_type": "code",
   "execution_count": null,
   "metadata": {},
   "outputs": [],
   "source": []
  }
 ]
}