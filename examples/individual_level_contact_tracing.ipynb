{
 "cells": [
  {
   "cell_type": "code",
   "execution_count": null,
   "metadata": {},
   "outputs": [],
   "source": [
    "import household_contact_tracing.branching_process_models as bpm\n",
    "from household_contact_tracing.simulation_controller import SimulationController"
   ]
  },
  {
   "cell_type": "markdown",
   "metadata": {},
   "source": [
    "# Notebook purpose\n",
    "To provide minimal working examples of various model functionalities.\n",
    "\n",
    "# Individual-level contact tracing\n",
    "Previously, we implemented household-level contact tracing, where upon detection of a case in a household, all members of the household have their contacts traced. Household-level contact tracing is motivated by the significant levels of pre-symptomatic and asymptomatic transmission observed in SARS-CoV-2, which means that by the time you detect a case in a household there is non-zero probability that other members of the household have already propagated the infection. Household-level contact tracing is a more pro-active approach to stopping infection, however often difficult to implement in practice.\n",
    "\n",
    "Individual-level contact tracing is different, in that an individual only has their contacts traced when they are detected as a case. This will immediately initiate quarantine of their household members, but those household members will not propagate contact tracing until they are detected as an infection. At a high level, this is how contact tracing is implemented by NHS England Test & Trace."
   ]
  },
  {
   "cell_type": "markdown",
   "metadata": {},
   "source": [
    "Note: I've not implemented the infection dynamics examples here, since it ought to be exactly the same code as in household_level_contact_tracing.ipynb."
   ]
  },
  {
   "cell_type": "markdown",
   "metadata": {},
   "source": [
    "# 0.1  - Default parameters\n",
    "We initialise some default parameters that we will modify as we go"
   ]
  },
  {
   "cell_type": "code",
   "execution_count": null,
   "metadata": {},
   "outputs": [],
   "source": [
    "# some default parameters that we use in nearly all simulations without modifying\n",
    "# specifies a fairly typical epidemic and contact tracing process\n",
    "\n",
    "base_params = {\n",
    "    'outside_household_infectivity_scaling': 0.7,\n",
    "    'contact_tracing_success_prob': 0.7,\n",
    "    'overdispersion': 0.32,\n",
    "    'asymptomatic_prob': 0.2,\n",
    "    'asymptomatic_relative_infectivity': 0.35,\n",
    "    'infection_reporting_prob': 0.5,\n",
    "    'contact_trace': True,\n",
    "    'test_delay': 2,\n",
    "    'contact_trace_delay': 1,\n",
    "    'incubation_period_delay': 5,\n",
    "    'symptom_reporting_delay': 1,\n",
    "    'household_pairwise_survival_prob': 0.2,\n",
    "    'reduce_contacts_by': 0.3,\n",
    "    'starting_infections': 1,\n",
    "    'node_will_uptake_isolation_prob': 1,\n",
    "    'self_isolation_duration': 7,\n",
    "    'quarantine_duration': 10,\n",
    "    'transmission_probability_multiplier': 1,\n",
    "    'propensity_imperfect_quarantine': 0,\n",
    "    'global_contact_reduction_imperfect_quarantine': 0\n",
    "}"
   ]
  },
  {
   "cell_type": "markdown",
   "metadata": {},
   "source": [
    "Now, we add some parameters that are specific to the individual-level contact tracing model."
   ]
  },
  {
   "cell_type": "markdown",
   "metadata": {},
   "source": [
    "Previously, all contact were being traced, regardless of when the contact occurred\n",
    "we now explicitely only trace contact that occurred 2 days prior to symptom onset, and 5 days after symptom onset, in line with NHS England Test & Trace policy."
   ]
  },
  {
   "cell_type": "code",
   "execution_count": null,
   "metadata": {},
   "outputs": [],
   "source": [
    "base_params['number_of_days_to_trace_backwards'] = 2\n",
    "base_params['number_of_days_to_trace_forwards'] = 5"
   ]
  },
  {
   "cell_type": "markdown",
   "metadata": {},
   "source": [
    "A model of recall decay is now incorporated, where the probability of recalling contacts decays as the amount of time that has passed since the contact has occurred increases."
   ]
  },
  {
   "cell_type": "code",
   "execution_count": null,
   "metadata": {},
   "outputs": [],
   "source": [
    "# this is badly parameterised, but a value of 1 implies there is no recall decay\n",
    "base_params['recall_probability_fall_off'] = 1"
   ]
  },
  {
   "cell_type": "markdown",
   "metadata": {},
   "source": [
    "An optional contact tracing behaviour is included, where if a traced individual develops symptoms, then this can be used to propagate contact tracing without the need for a test. In other words, symptom onset in a traced individual is sufficient evidence to initiate tracing, due to the high proabbility that they are infected with SARS-CoV-2, and not a similar influenza-like illness."
   ]
  },
  {
   "cell_type": "code",
   "execution_count": null,
   "metadata": {},
   "outputs": [],
   "source": [
    "# Default value is true, in line with current policy\n",
    "base_params['probable_infections_need_test'] = True"
   ]
  },
  {
   "cell_type": "markdown",
   "metadata": {},
   "source": [
    "# 1.1 - Simple individual-level contact tracing"
   ]
  },
  {
   "cell_type": "code",
   "execution_count": null,
   "metadata": {},
   "outputs": [],
   "source": [
    "base_params"
   ]
  },
  {
   "cell_type": "code",
   "execution_count": null,
   "metadata": {
    "scrolled": false
   },
   "outputs": [],
   "source": [
    "controller = SimulationController(bpm.IndividualLevelContactTracing(base_params))\n",
    "controller.run_simulation(15)"
   ]
  },
  {
   "cell_type": "code",
   "execution_count": null,
   "metadata": {},
   "outputs": [],
   "source": [
    "controller.graph_pyvis_view.open_in_browser = True\n",
    "controller.graph_view.set_display(False)\n",
    "controller.run_simulation(20)"
   ]
  },
  {
   "cell_type": "code",
   "execution_count": null,
   "metadata": {},
   "outputs": [],
   "source": []
  }
 ],
 "metadata": {
  "kernelspec": {
   "display_name": "PyCharm (TestingContactModel)",
   "language": "python",
   "name": "pycharm-6e91b71a"
  },
  "language_info": {
   "codemirror_mode": {
    "name": "ipython",
    "version": 3
   },
   "file_extension": ".py",
   "mimetype": "text/x-python",
   "name": "python",
   "nbconvert_exporter": "python",
   "pygments_lexer": "ipython3",
   "version": "3.9.2"
  }
 },
 "nbformat": 4,
 "nbformat_minor": 2
}
