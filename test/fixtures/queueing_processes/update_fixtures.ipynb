{
 "metadata": {
  "language_info": {
   "codemirror_mode": {
    "name": "ipython",
    "version": 3
   },
   "file_extension": ".py",
   "mimetype": "text/x-python",
   "name": "python",
   "nbconvert_exporter": "python",
   "pygments_lexer": "ipython3",
   "version": "3.7.10"
  },
  "orig_nbformat": 4,
  "kernelspec": {
   "name": "python3",
   "display_name": "Python 3.7.10 64-bit (conda)"
  },
  "interpreter": {
   "hash": "7492ded05b103f4219da6ddb5c402bdc2a09c917dea74c75989a286e893175e7"
  }
 },
 "nbformat": 4,
 "nbformat_minor": 2,
 "cells": [
  {
   "cell_type": "code",
   "execution_count": 1,
   "metadata": {},
   "outputs": [],
   "source": [
    "from household_contact_tracing.queueing_processes import Queue, DeterministicQueue\n",
    "import pickle"
   ]
  },
  {
   "source": [
    "This notebook is used to create the fixtures for test_queueing_processes.py."
   ],
   "cell_type": "markdown",
   "metadata": {}
  },
  {
   "source": [
    "## Queue"
   ],
   "cell_type": "markdown",
   "metadata": {}
  },
  {
   "cell_type": "code",
   "execution_count": 2,
   "metadata": {},
   "outputs": [],
   "source": [
    "my_queue = Queue(days_to_simulate=10, capacity=[10]*10)"
   ]
  },
  {
   "source": [
    "### Initialised applicant df"
   ],
   "cell_type": "markdown",
   "metadata": {}
  },
  {
   "cell_type": "code",
   "execution_count": 3,
   "metadata": {},
   "outputs": [
    {
     "output_type": "execute_result",
     "data": {
      "text/plain": [
       "Empty DataFrame\n",
       "Columns: [id, processed, waiting_to_be_processed, left_queue_not_processed, time_symptom_onset, time_joined_queue, time_processed, time_received_result, time_will_leave_queue]\n",
       "Index: []"
      ],
      "text/html": "<div>\n<style scoped>\n    .dataframe tbody tr th:only-of-type {\n        vertical-align: middle;\n    }\n\n    .dataframe tbody tr th {\n        vertical-align: top;\n    }\n\n    .dataframe thead th {\n        text-align: right;\n    }\n</style>\n<table border=\"1\" class=\"dataframe\">\n  <thead>\n    <tr style=\"text-align: right;\">\n      <th></th>\n      <th>id</th>\n      <th>processed</th>\n      <th>waiting_to_be_processed</th>\n      <th>left_queue_not_processed</th>\n      <th>time_symptom_onset</th>\n      <th>time_joined_queue</th>\n      <th>time_processed</th>\n      <th>time_received_result</th>\n      <th>time_will_leave_queue</th>\n    </tr>\n  </thead>\n  <tbody>\n  </tbody>\n</table>\n</div>"
     },
     "metadata": {},
     "execution_count": 3
    }
   ],
   "source": [
    "my_queue.applicant_df"
   ]
  },
  {
   "cell_type": "code",
   "execution_count": 4,
   "metadata": {},
   "outputs": [],
   "source": [
    "#my_queue.applicant_df.to_pickle('./test/fixtures/queueing_processes/empty_applicant_df.pickle')"
   ]
  },
  {
   "source": [
    "### Initialised queue_df"
   ],
   "cell_type": "markdown",
   "metadata": {}
  },
  {
   "cell_type": "code",
   "execution_count": 5,
   "metadata": {},
   "outputs": [
    {
     "output_type": "execute_result",
     "data": {
      "text/plain": [
       "   time  capacity new_applicants spillover_to_next_day  \\\n",
       "0     0        10                                        \n",
       "1     1        10                                        \n",
       "2     2        10                                        \n",
       "3     3        10                                        \n",
       "4     4        10                                        \n",
       "5     5        10                                        \n",
       "6     6        10                                        \n",
       "7     7        10                                        \n",
       "8     8        10                                        \n",
       "9     9        10                                        \n",
       "\n",
       "  total_applications_today capacity_exceeded capacity_exceeded_by  \\\n",
       "0                                                                   \n",
       "1                                                                   \n",
       "2                                                                   \n",
       "3                                                                   \n",
       "4                                                                   \n",
       "5                                                                   \n",
       "6                                                                   \n",
       "7                                                                   \n",
       "8                                                                   \n",
       "9                                                                   \n",
       "\n",
       "  number_processed_today number_left_queue_not_tested  \n",
       "0                                                    \n",
       "1                                                    \n",
       "2                                                    \n",
       "3                                                    \n",
       "4                                                    \n",
       "5                                                    \n",
       "6                                                    \n",
       "7                                                    \n",
       "8                                                    \n",
       "9                                                    "
      ],
      "text/html": "<div>\n<style scoped>\n    .dataframe tbody tr th:only-of-type {\n        vertical-align: middle;\n    }\n\n    .dataframe tbody tr th {\n        vertical-align: top;\n    }\n\n    .dataframe thead th {\n        text-align: right;\n    }\n</style>\n<table border=\"1\" class=\"dataframe\">\n  <thead>\n    <tr style=\"text-align: right;\">\n      <th></th>\n      <th>time</th>\n      <th>capacity</th>\n      <th>new_applicants</th>\n      <th>spillover_to_next_day</th>\n      <th>total_applications_today</th>\n      <th>capacity_exceeded</th>\n      <th>capacity_exceeded_by</th>\n      <th>number_processed_today</th>\n      <th>number_left_queue_not_tested</th>\n    </tr>\n  </thead>\n  <tbody>\n    <tr>\n      <th>0</th>\n      <td>0</td>\n      <td>10</td>\n      <td></td>\n      <td></td>\n      <td></td>\n      <td></td>\n      <td></td>\n      <td></td>\n      <td></td>\n    </tr>\n    <tr>\n      <th>1</th>\n      <td>1</td>\n      <td>10</td>\n      <td></td>\n      <td></td>\n      <td></td>\n      <td></td>\n      <td></td>\n      <td></td>\n      <td></td>\n    </tr>\n    <tr>\n      <th>2</th>\n      <td>2</td>\n      <td>10</td>\n      <td></td>\n      <td></td>\n      <td></td>\n      <td></td>\n      <td></td>\n      <td></td>\n      <td></td>\n    </tr>\n    <tr>\n      <th>3</th>\n      <td>3</td>\n      <td>10</td>\n      <td></td>\n      <td></td>\n      <td></td>\n      <td></td>\n      <td></td>\n      <td></td>\n      <td></td>\n    </tr>\n    <tr>\n      <th>4</th>\n      <td>4</td>\n      <td>10</td>\n      <td></td>\n      <td></td>\n      <td></td>\n      <td></td>\n      <td></td>\n      <td></td>\n      <td></td>\n    </tr>\n    <tr>\n      <th>5</th>\n      <td>5</td>\n      <td>10</td>\n      <td></td>\n      <td></td>\n      <td></td>\n      <td></td>\n      <td></td>\n      <td></td>\n      <td></td>\n    </tr>\n    <tr>\n      <th>6</th>\n      <td>6</td>\n      <td>10</td>\n      <td></td>\n      <td></td>\n      <td></td>\n      <td></td>\n      <td></td>\n      <td></td>\n      <td></td>\n    </tr>\n    <tr>\n      <th>7</th>\n      <td>7</td>\n      <td>10</td>\n      <td></td>\n      <td></td>\n      <td></td>\n      <td></td>\n      <td></td>\n      <td></td>\n      <td></td>\n    </tr>\n    <tr>\n      <th>8</th>\n      <td>8</td>\n      <td>10</td>\n      <td></td>\n      <td></td>\n      <td></td>\n      <td></td>\n      <td></td>\n      <td></td>\n      <td></td>\n    </tr>\n    <tr>\n      <th>9</th>\n      <td>9</td>\n      <td>10</td>\n      <td></td>\n      <td></td>\n      <td></td>\n      <td></td>\n      <td></td>\n      <td></td>\n      <td></td>\n    </tr>\n  </tbody>\n</table>\n</div>"
     },
     "metadata": {},
     "execution_count": 5
    }
   ],
   "source": [
    "my_queue.queue_df"
   ]
  },
  {
   "cell_type": "code",
   "execution_count": 6,
   "metadata": {},
   "outputs": [],
   "source": [
    "#my_queue.queue_df.to_pickle('./test/fixtures/queueing_processes/empty_queue_df.pickle')"
   ]
  },
  {
   "source": [
    "### add_new_applicants"
   ],
   "cell_type": "markdown",
   "metadata": {}
  },
  {
   "cell_type": "code",
   "execution_count": 7,
   "metadata": {},
   "outputs": [],
   "source": [
    "my_queue.add_new_applicants(['A', 'B', 'C'], [1,2,3], 6)"
   ]
  },
  {
   "cell_type": "code",
   "execution_count": 8,
   "metadata": {},
   "outputs": [
    {
     "output_type": "execute_result",
     "data": {
      "text/plain": [
       "  id processed waiting_to_be_processed left_queue_not_processed time_symptom_onset  \\\n",
       "0  A   False                  True                                             \n",
       "1  B   False                  True                                             \n",
       "2  C   False                  True                                             \n",
       "\n",
       "  time_joined_queue time_processed time_received_result time_will_leave_queue  \\\n",
       "0                                                                         7   \n",
       "1                                                                         8   \n",
       "2                                                                         9   \n",
       "\n",
       "   symptom_onset  \n",
       "0            1.0  \n",
       "1            2.0  \n",
       "2            3.0  "
      ],
      "text/html": "<div>\n<style scoped>\n    .dataframe tbody tr th:only-of-type {\n        vertical-align: middle;\n    }\n\n    .dataframe tbody tr th {\n        vertical-align: top;\n    }\n\n    .dataframe thead th {\n        text-align: right;\n    }\n</style>\n<table border=\"1\" class=\"dataframe\">\n  <thead>\n    <tr style=\"text-align: right;\">\n      <th></th>\n      <th>id</th>\n      <th>processed</th>\n      <th>waiting_to_be_processed</th>\n      <th>left_queue_not_processed</th>\n      <th>time_symptom_onset</th>\n      <th>time_joined_queue</th>\n      <th>time_processed</th>\n      <th>time_received_result</th>\n      <th>time_will_leave_queue</th>\n      <th>symptom_onset</th>\n    </tr>\n  </thead>\n  <tbody>\n    <tr>\n      <th>0</th>\n      <td>A</td>\n      <td>False</td>\n      <td>True</td>\n      <td></td>\n      <td></td>\n      <td></td>\n      <td></td>\n      <td></td>\n      <td>7</td>\n      <td>1.0</td>\n    </tr>\n    <tr>\n      <th>1</th>\n      <td>B</td>\n      <td>False</td>\n      <td>True</td>\n      <td></td>\n      <td></td>\n      <td></td>\n      <td></td>\n      <td></td>\n      <td>8</td>\n      <td>2.0</td>\n    </tr>\n    <tr>\n      <th>2</th>\n      <td>C</td>\n      <td>False</td>\n      <td>True</td>\n      <td></td>\n      <td></td>\n      <td></td>\n      <td></td>\n      <td></td>\n      <td>9</td>\n      <td>3.0</td>\n    </tr>\n  </tbody>\n</table>\n</div>"
     },
     "metadata": {},
     "execution_count": 8
    }
   ],
   "source": [
    "my_queue.applicant_df"
   ]
  },
  {
   "cell_type": "code",
   "execution_count": 9,
   "metadata": {},
   "outputs": [],
   "source": [
    "# my_queue.applicant_df.to_pickle('./test/fixtures/queueing_processes/Queue_new_applicants_fixture.pickle')"
   ]
  },
  {
   "source": [
    "### swab_applicants"
   ],
   "cell_type": "markdown",
   "metadata": {}
  },
  {
   "cell_type": "code",
   "execution_count": 21,
   "metadata": {},
   "outputs": [],
   "source": [
    "my_queue = Queue(days_to_simulate=10, capacity=[10]*10)\n",
    "my_queue.add_new_applicants(['A', 'B', 'C'], [1,2,3], 6)\n",
    "my_queue.swab_applicants([1, 2], [1,2])"
   ]
  },
  {
   "cell_type": "code",
   "execution_count": 22,
   "metadata": {},
   "outputs": [
    {
     "output_type": "execute_result",
     "data": {
      "text/plain": [
       "  id processed waiting_to_be_processed left_queue_not_processed time_symptom_onset  \\\n",
       "0  A   False                  True                                             \n",
       "1  B    True                 False                  False                      \n",
       "2  C    True                 False                  False                      \n",
       "\n",
       "  time_joined_queue time_processed time_received_result time_will_leave_queue  \\\n",
       "0                                                                         7   \n",
       "1                              0                    1                     8   \n",
       "2                              0                    2                     9   \n",
       "\n",
       "   symptom_onset  \n",
       "0            1.0  \n",
       "1            2.0  \n",
       "2            3.0  "
      ],
      "text/html": "<div>\n<style scoped>\n    .dataframe tbody tr th:only-of-type {\n        vertical-align: middle;\n    }\n\n    .dataframe tbody tr th {\n        vertical-align: top;\n    }\n\n    .dataframe thead th {\n        text-align: right;\n    }\n</style>\n<table border=\"1\" class=\"dataframe\">\n  <thead>\n    <tr style=\"text-align: right;\">\n      <th></th>\n      <th>id</th>\n      <th>processed</th>\n      <th>waiting_to_be_processed</th>\n      <th>left_queue_not_processed</th>\n      <th>time_symptom_onset</th>\n      <th>time_joined_queue</th>\n      <th>time_processed</th>\n      <th>time_received_result</th>\n      <th>time_will_leave_queue</th>\n      <th>symptom_onset</th>\n    </tr>\n  </thead>\n  <tbody>\n    <tr>\n      <th>0</th>\n      <td>A</td>\n      <td>False</td>\n      <td>True</td>\n      <td></td>\n      <td></td>\n      <td></td>\n      <td></td>\n      <td></td>\n      <td>7</td>\n      <td>1.0</td>\n    </tr>\n    <tr>\n      <th>1</th>\n      <td>B</td>\n      <td>True</td>\n      <td>False</td>\n      <td>False</td>\n      <td></td>\n      <td></td>\n      <td>0</td>\n      <td>1</td>\n      <td>8</td>\n      <td>2.0</td>\n    </tr>\n    <tr>\n      <th>2</th>\n      <td>C</td>\n      <td>True</td>\n      <td>False</td>\n      <td>False</td>\n      <td></td>\n      <td></td>\n      <td>0</td>\n      <td>2</td>\n      <td>9</td>\n      <td>3.0</td>\n    </tr>\n  </tbody>\n</table>\n</div>"
     },
     "metadata": {},
     "execution_count": 22
    }
   ],
   "source": [
    "my_queue.applicant_df"
   ]
  },
  {
   "cell_type": "code",
   "execution_count": 23,
   "metadata": {},
   "outputs": [],
   "source": [
    "# my_queue.applicant_df.to_pickle('./test/fixtures/queueing_processes/Queue_swab_applicants.pickle')"
   ]
  },
  {
   "source": [
    "## Deterministic Queue"
   ],
   "cell_type": "markdown",
   "metadata": {}
  },
  {
   "cell_type": "code",
   "execution_count": 29,
   "metadata": {},
   "outputs": [],
   "source": [
    "### Add new test seekers"
   ]
  },
  {
   "cell_type": "code",
   "execution_count": 3,
   "metadata": {},
   "outputs": [],
   "source": [
    "def processing_delay_dist():\n",
    "    return 1\n",
    "\n",
    "def symptom_onset_delay_dist():\n",
    "    return 2 \n",
    "\n",
    "my_det_queue = DeterministicQueue(\n",
    "    days_to_simulate            = 10,\n",
    "    demand                      = [10]*10,\n",
    "    capacity                    = [10]*10,\n",
    "    max_time_in_queue           = 10,\n",
    "    processing_delay_dist  = processing_delay_dist,\n",
    "    symptom_onset_delay_dist    = symptom_onset_delay_dist\n",
    ")"
   ]
  },
  {
   "cell_type": "code",
   "execution_count": 5,
   "metadata": {},
   "outputs": [],
   "source": [
    "my_det_queue.add_new_test_seekers()"
   ]
  },
  {
   "cell_type": "code",
   "execution_count": 8,
   "metadata": {},
   "outputs": [
    {
     "output_type": "execute_result",
     "data": {
      "text/plain": [
       "   id processed waiting_to_be_processed left_queue_not_processed time_symptom_onset  \\\n",
       "0  10   False                  True                                             \n",
       "1  10   False                  True                                             \n",
       "2  10   False                  True                                             \n",
       "3  10   False                  True                                             \n",
       "4  10   False                  True                                             \n",
       "5  10   False                  True                                             \n",
       "6  10   False                  True                                             \n",
       "7  10   False                  True                                             \n",
       "8  10   False                  True                                             \n",
       "9  10   False                  True                                             \n",
       "\n",
       "  time_joined_queue time_processed time_received_result time_will_leave_queue  \\\n",
       "0                                                                        12   \n",
       "1                                                                        12   \n",
       "2                                                                        12   \n",
       "3                                                                        12   \n",
       "4                                                                        12   \n",
       "5                                                                        12   \n",
       "6                                                                        12   \n",
       "7                                                                        12   \n",
       "8                                                                        12   \n",
       "9                                                                        12   \n",
       "\n",
       "   symptom_onset  \n",
       "0            2.0  \n",
       "1            2.0  \n",
       "2            2.0  \n",
       "3            2.0  \n",
       "4            2.0  \n",
       "5            2.0  \n",
       "6            2.0  \n",
       "7            2.0  \n",
       "8            2.0  \n",
       "9            2.0  "
      ],
      "text/html": "<div>\n<style scoped>\n    .dataframe tbody tr th:only-of-type {\n        vertical-align: middle;\n    }\n\n    .dataframe tbody tr th {\n        vertical-align: top;\n    }\n\n    .dataframe thead th {\n        text-align: right;\n    }\n</style>\n<table border=\"1\" class=\"dataframe\">\n  <thead>\n    <tr style=\"text-align: right;\">\n      <th></th>\n      <th>id</th>\n      <th>processed</th>\n      <th>waiting_to_be_processed</th>\n      <th>left_queue_not_processed</th>\n      <th>time_symptom_onset</th>\n      <th>time_joined_queue</th>\n      <th>time_processed</th>\n      <th>time_received_result</th>\n      <th>time_will_leave_queue</th>\n      <th>symptom_onset</th>\n    </tr>\n  </thead>\n  <tbody>\n    <tr>\n      <th>0</th>\n      <td>10</td>\n      <td>False</td>\n      <td>True</td>\n      <td></td>\n      <td></td>\n      <td></td>\n      <td></td>\n      <td></td>\n      <td>12</td>\n      <td>2.0</td>\n    </tr>\n    <tr>\n      <th>1</th>\n      <td>10</td>\n      <td>False</td>\n      <td>True</td>\n      <td></td>\n      <td></td>\n      <td></td>\n      <td></td>\n      <td></td>\n      <td>12</td>\n      <td>2.0</td>\n    </tr>\n    <tr>\n      <th>2</th>\n      <td>10</td>\n      <td>False</td>\n      <td>True</td>\n      <td></td>\n      <td></td>\n      <td></td>\n      <td></td>\n      <td></td>\n      <td>12</td>\n      <td>2.0</td>\n    </tr>\n    <tr>\n      <th>3</th>\n      <td>10</td>\n      <td>False</td>\n      <td>True</td>\n      <td></td>\n      <td></td>\n      <td></td>\n      <td></td>\n      <td></td>\n      <td>12</td>\n      <td>2.0</td>\n    </tr>\n    <tr>\n      <th>4</th>\n      <td>10</td>\n      <td>False</td>\n      <td>True</td>\n      <td></td>\n      <td></td>\n      <td></td>\n      <td></td>\n      <td></td>\n      <td>12</td>\n      <td>2.0</td>\n    </tr>\n    <tr>\n      <th>5</th>\n      <td>10</td>\n      <td>False</td>\n      <td>True</td>\n      <td></td>\n      <td></td>\n      <td></td>\n      <td></td>\n      <td></td>\n      <td>12</td>\n      <td>2.0</td>\n    </tr>\n    <tr>\n      <th>6</th>\n      <td>10</td>\n      <td>False</td>\n      <td>True</td>\n      <td></td>\n      <td></td>\n      <td></td>\n      <td></td>\n      <td></td>\n      <td>12</td>\n      <td>2.0</td>\n    </tr>\n    <tr>\n      <th>7</th>\n      <td>10</td>\n      <td>False</td>\n      <td>True</td>\n      <td></td>\n      <td></td>\n      <td></td>\n      <td></td>\n      <td></td>\n      <td>12</td>\n      <td>2.0</td>\n    </tr>\n    <tr>\n      <th>8</th>\n      <td>10</td>\n      <td>False</td>\n      <td>True</td>\n      <td></td>\n      <td></td>\n      <td></td>\n      <td></td>\n      <td></td>\n      <td>12</td>\n      <td>2.0</td>\n    </tr>\n    <tr>\n      <th>9</th>\n      <td>10</td>\n      <td>False</td>\n      <td>True</td>\n      <td></td>\n      <td></td>\n      <td></td>\n      <td></td>\n      <td></td>\n      <td>12</td>\n      <td>2.0</td>\n    </tr>\n  </tbody>\n</table>\n</div>"
     },
     "metadata": {},
     "execution_count": 8
    }
   ],
   "source": [
    "my_det_queue.queue.applicant_df"
   ]
  },
  {
   "cell_type": "code",
   "execution_count": 9,
   "metadata": {},
   "outputs": [],
   "source": [
    "my_det_queue.queue.applicant_df.to_pickle('./test/fixtures/queueing_processes/DeterministicQueue_add_new_test_seekers.pickle')"
   ]
  },
  {
   "source": [
    "### test_process_queue_excess_capacity"
   ],
   "cell_type": "markdown",
   "metadata": {}
  },
  {
   "cell_type": "code",
   "execution_count": 10,
   "metadata": {},
   "outputs": [],
   "source": [
    "def processing_delay_dist():\n",
    "    return 1\n",
    "\n",
    "def symptom_onset_delay_dist():\n",
    "    return 2 \n",
    "\n",
    "my_det_queue = DeterministicQueue(\n",
    "    days_to_simulate            = 10,\n",
    "    demand                      = [5]*10,\n",
    "    capacity                    = [10]*10,\n",
    "    max_time_in_queue           = 10,\n",
    "    processing_delay_dist  = processing_delay_dist,\n",
    "    symptom_onset_delay_dist    = symptom_onset_delay_dist\n",
    ")\n",
    "\n",
    "my_det_queue.add_new_test_seekers()\n",
    "\n"
   ]
  },
  {
   "cell_type": "code",
   "execution_count": 11,
   "metadata": {},
   "outputs": [
    {
     "output_type": "execute_result",
     "data": {
      "text/plain": [
       "  id processed waiting_to_be_processed left_queue_not_processed time_symptom_onset  \\\n",
       "0  5   False                  True                                             \n",
       "1  5   False                  True                                             \n",
       "2  5   False                  True                                             \n",
       "3  5   False                  True                                             \n",
       "4  5   False                  True                                             \n",
       "\n",
       "  time_joined_queue time_processed time_received_result time_will_leave_queue  \\\n",
       "0                                                                        12   \n",
       "1                                                                        12   \n",
       "2                                                                        12   \n",
       "3                                                                        12   \n",
       "4                                                                        12   \n",
       "\n",
       "   symptom_onset  \n",
       "0            2.0  \n",
       "1            2.0  \n",
       "2            2.0  \n",
       "3            2.0  \n",
       "4            2.0  "
      ],
      "text/html": "<div>\n<style scoped>\n    .dataframe tbody tr th:only-of-type {\n        vertical-align: middle;\n    }\n\n    .dataframe tbody tr th {\n        vertical-align: top;\n    }\n\n    .dataframe thead th {\n        text-align: right;\n    }\n</style>\n<table border=\"1\" class=\"dataframe\">\n  <thead>\n    <tr style=\"text-align: right;\">\n      <th></th>\n      <th>id</th>\n      <th>processed</th>\n      <th>waiting_to_be_processed</th>\n      <th>left_queue_not_processed</th>\n      <th>time_symptom_onset</th>\n      <th>time_joined_queue</th>\n      <th>time_processed</th>\n      <th>time_received_result</th>\n      <th>time_will_leave_queue</th>\n      <th>symptom_onset</th>\n    </tr>\n  </thead>\n  <tbody>\n    <tr>\n      <th>0</th>\n      <td>5</td>\n      <td>False</td>\n      <td>True</td>\n      <td></td>\n      <td></td>\n      <td></td>\n      <td></td>\n      <td></td>\n      <td>12</td>\n      <td>2.0</td>\n    </tr>\n    <tr>\n      <th>1</th>\n      <td>5</td>\n      <td>False</td>\n      <td>True</td>\n      <td></td>\n      <td></td>\n      <td></td>\n      <td></td>\n      <td></td>\n      <td>12</td>\n      <td>2.0</td>\n    </tr>\n    <tr>\n      <th>2</th>\n      <td>5</td>\n      <td>False</td>\n      <td>True</td>\n      <td></td>\n      <td></td>\n      <td></td>\n      <td></td>\n      <td></td>\n      <td>12</td>\n      <td>2.0</td>\n    </tr>\n    <tr>\n      <th>3</th>\n      <td>5</td>\n      <td>False</td>\n      <td>True</td>\n      <td></td>\n      <td></td>\n      <td></td>\n      <td></td>\n      <td></td>\n      <td>12</td>\n      <td>2.0</td>\n    </tr>\n    <tr>\n      <th>4</th>\n      <td>5</td>\n      <td>False</td>\n      <td>True</td>\n      <td></td>\n      <td></td>\n      <td></td>\n      <td></td>\n      <td></td>\n      <td>12</td>\n      <td>2.0</td>\n    </tr>\n  </tbody>\n</table>\n</div>"
     },
     "metadata": {},
     "execution_count": 11
    }
   ],
   "source": [
    "my_det_queue.queue.applicant_df"
   ]
  },
  {
   "cell_type": "code",
   "execution_count": 12,
   "metadata": {},
   "outputs": [],
   "source": [
    "my_det_queue.process_queue()"
   ]
  },
  {
   "cell_type": "code",
   "execution_count": 13,
   "metadata": {},
   "outputs": [
    {
     "output_type": "execute_result",
     "data": {
      "text/plain": [
       "  id processed waiting_to_be_processed left_queue_not_processed time_symptom_onset  \\\n",
       "0  5    True                 False                  False                      \n",
       "1  5    True                 False                  False                      \n",
       "2  5    True                 False                  False                      \n",
       "3  5    True                 False                  False                      \n",
       "4  5    True                 False                  False                      \n",
       "\n",
       "  time_joined_queue time_processed  time_received_result time_will_leave_queue  \\\n",
       "0                              0                     1                    12   \n",
       "1                              0                     1                    12   \n",
       "2                              0                     1                    12   \n",
       "3                              0                     1                    12   \n",
       "4                              0                     1                    12   \n",
       "\n",
       "   symptom_onset  \n",
       "0            2.0  \n",
       "1            2.0  \n",
       "2            2.0  \n",
       "3            2.0  \n",
       "4            2.0  "
      ],
      "text/html": "<div>\n<style scoped>\n    .dataframe tbody tr th:only-of-type {\n        vertical-align: middle;\n    }\n\n    .dataframe tbody tr th {\n        vertical-align: top;\n    }\n\n    .dataframe thead th {\n        text-align: right;\n    }\n</style>\n<table border=\"1\" class=\"dataframe\">\n  <thead>\n    <tr style=\"text-align: right;\">\n      <th></th>\n      <th>id</th>\n      <th>processed</th>\n      <th>waiting_to_be_processed</th>\n      <th>left_queue_not_processed</th>\n      <th>time_symptom_onset</th>\n      <th>time_joined_queue</th>\n      <th>time_processed</th>\n      <th>time_received_result</th>\n      <th>time_will_leave_queue</th>\n      <th>symptom_onset</th>\n    </tr>\n  </thead>\n  <tbody>\n    <tr>\n      <th>0</th>\n      <td>5</td>\n      <td>True</td>\n      <td>False</td>\n      <td>False</td>\n      <td></td>\n      <td></td>\n      <td>0</td>\n      <td>1</td>\n      <td>12</td>\n      <td>2.0</td>\n    </tr>\n    <tr>\n      <th>1</th>\n      <td>5</td>\n      <td>True</td>\n      <td>False</td>\n      <td>False</td>\n      <td></td>\n      <td></td>\n      <td>0</td>\n      <td>1</td>\n      <td>12</td>\n      <td>2.0</td>\n    </tr>\n    <tr>\n      <th>2</th>\n      <td>5</td>\n      <td>True</td>\n      <td>False</td>\n      <td>False</td>\n      <td></td>\n      <td></td>\n      <td>0</td>\n      <td>1</td>\n      <td>12</td>\n      <td>2.0</td>\n    </tr>\n    <tr>\n      <th>3</th>\n      <td>5</td>\n      <td>True</td>\n      <td>False</td>\n      <td>False</td>\n      <td></td>\n      <td></td>\n      <td>0</td>\n      <td>1</td>\n      <td>12</td>\n      <td>2.0</td>\n    </tr>\n    <tr>\n      <th>4</th>\n      <td>5</td>\n      <td>True</td>\n      <td>False</td>\n      <td>False</td>\n      <td></td>\n      <td></td>\n      <td>0</td>\n      <td>1</td>\n      <td>12</td>\n      <td>2.0</td>\n    </tr>\n  </tbody>\n</table>\n</div>"
     },
     "metadata": {},
     "execution_count": 13
    }
   ],
   "source": [
    "my_det_queue.queue.applicant_df"
   ]
  },
  {
   "cell_type": "code",
   "execution_count": null,
   "metadata": {},
   "outputs": [],
   "source": []
  }
 ]
}
